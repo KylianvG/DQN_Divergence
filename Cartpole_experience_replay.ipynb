{
 "cells": [
  {
   "cell_type": "markdown",
   "metadata": {},
   "source": [
    "# Imports"
   ]
  },
  {
   "cell_type": "code",
   "execution_count": 1,
   "metadata": {},
   "outputs": [],
   "source": [
    "from dqn.dqn import QNetwork, ReplayMemory\n",
    "from policies.eps_greedy import EpsilonGreedyPolicy\n",
    "from train_eval.train import train\n",
    "\n",
    "import random\n",
    "import numpy as np\n",
    "import torch\n",
    "from torch import optim\n",
    "import gym\n",
    "import matplotlib.pyplot as plt\n",
    "from tqdm.auto import tqdm\n",
    "from copy import deepcopy"
   ]
  },
  {
   "cell_type": "markdown",
   "metadata": {},
   "source": [
    "# Load the environment"
   ]
  },
  {
   "cell_type": "code",
   "execution_count": 2,
   "metadata": {},
   "outputs": [
    {
     "name": "stderr",
     "output_type": "stream",
     "text": [
      "/home/martine/miniconda3/envs/rl2020/lib/python3.7/site-packages/gym/envs/registration.py:14: PkgResourcesDeprecationWarning: Parameters to load are deprecated.  Call .resolve and .require separately.\n",
      "  result = entry_point.load(False)\n"
     ]
    }
   ],
   "source": [
    "env = gym.envs.make(\"CartPole-v1\")"
   ]
  },
  {
   "cell_type": "markdown",
   "metadata": {},
   "source": [
    "# Function to run episodes and call training function (memory off, baseline)"
   ]
  },
  {
   "cell_type": "code",
   "execution_count": 3,
   "metadata": {},
   "outputs": [],
   "source": [
    "def run_episodes(train, Q, policy, memory, env, num_episodes, batch_size, discount_factor, optimizer):\n",
    "    global_steps = 0  # Count the steps (do not reset at episode start, to compute epsilon)\n",
    "    episode_durations = []  #\n",
    "    state_values = []\n",
    "    init_state = env.reset()\n",
    "    for i in tqdm(range(1, num_episodes+1)):\n",
    "        state = env.reset()\n",
    "\n",
    "        steps = 0\n",
    "        while True:\n",
    "            # Set epsilon according to number of steps\n",
    "            policy.set_epsilon(global_steps)\n",
    "            # Increase step counts\n",
    "            steps += 1\n",
    "            global_steps += 1\n",
    "            # Sample an action, next state, reward and done\n",
    "            a = policy.sample_action(state)\n",
    "            s_next, r, done, _ = env.step(a)\n",
    "            # Add the transition to the memory buffer\n",
    "            memory.push((state, a, r, s_next, done))\n",
    "            # Perform training on the buffer\n",
    "            if global_steps % batch_size == 0:\n",
    "                loss = train(Q, memory, optimizer, batch_size, discount_factor)\n",
    "            state = s_next\n",
    "            \n",
    "            if done:\n",
    "                episode_durations.append(steps)\n",
    "                break\n",
    "        if i == 1 or i % 100 == 0:\n",
    "            with torch.no_grad():\n",
    "                Q.eval()\n",
    "                Q_vals = Q(torch.Tensor([init_state]))\n",
    "                maxx, _ = torch.max(Q_vals, dim=1)\n",
    "                state_values.append(maxx)\n",
    "    return episode_durations, state_values"
   ]
  },
  {
   "cell_type": "markdown",
   "metadata": {},
   "source": [
    "# Train network (Replay memory off, baseline)"
   ]
  },
  {
   "cell_type": "code",
   "execution_count": 4,
   "metadata": {
    "scrolled": true
   },
   "outputs": [
    {
     "data": {
      "application/vnd.jupyter.widget-view+json": {
       "model_id": "47d8156ce9144230a757756f1347e3d2",
       "version_major": 2,
       "version_minor": 0
      },
      "text/plain": [
       "HBox(children=(IntProgress(value=0, max=10000), HTML(value='')))"
      ]
     },
     "metadata": {},
     "output_type": "display_data"
    },
    {
     "name": "stdout",
     "output_type": "stream",
     "text": [
      "\n"
     ]
    }
   ],
   "source": [
    "seed = 42  # This is not randomly chosen\n",
    "num_hidden = 128\n",
    "eps = 0.05\n",
    "\n",
    "# We will seed the algorithm (before initializing QNetwork!) for reproducibility\n",
    "random.seed(seed)\n",
    "torch.manual_seed(seed)\n",
    "env.seed(seed)\n",
    "\n",
    "Q_net = QNetwork(num_hidden=num_hidden)\n",
    "policy = EpsilonGreedyPolicy(Q_net, eps)\n",
    "\n",
    "num_episodes = 10000\n",
    "batch_size = 64\n",
    "discount_factor = 0.9\n",
    "learn_rate = 1e-3\n",
    "\n",
    "# We switch off Replay Memory mechanism by setting the memory size to batch size\n",
    "# This is our baseline \n",
    "memory = ReplayMemory(batch_size)\n",
    "\n",
    "optimizer = optim.Adam(Q_net.parameters(), learn_rate)\n",
    "episode_durations, state_values = run_episodes(train, Q_net, policy, memory, env, num_episodes, batch_size, discount_factor, optimizer)"
   ]
  },
  {
   "cell_type": "code",
   "execution_count": 5,
   "metadata": {},
   "outputs": [
    {
     "data": {
      "image/png": "[encoded data removed]",
      "text/plain": [
       "<Figure size 432x288 with 1 Axes>"
      ]
     },
     "metadata": {
      "needs_background": "light"
     },
     "output_type": "display_data"
    },
    {
     "data": {
      "image/png": "[encoded data removed]",
      "text/plain": [
       "<Figure size 432x288 with 1 Axes>"
      ]
     },
     "metadata": {
      "needs_background": "light"
     },
     "output_type": "display_data"
    }
   ],
   "source": [
    "def smooth(x, N):\n",
    "    cumsum = np.cumsum(np.insert(x, 0, 0)) \n",
    "    return (cumsum[N:] - cumsum[:-N]) / float(N)\n",
    "\n",
    "plt.plot(smooth(np.array(state_values), 10))\n",
    "plt.ylabel('$\\max_a\\ Q(s,a)$')\n",
    "plt.show()\n",
    "\n",
    "plt.plot(smooth(np.array(episode_durations), 10))\n",
    "plt.ylabel('Episode duration')\n",
    "plt.show()"
   ]
  },
  {
   "cell_type": "markdown",
   "metadata": {},
   "source": [
    "# Function to run episodes and call training function (memory on)"
   ]
  },
  {
   "cell_type": "code",
   "execution_count": 6,
   "metadata": {},
   "outputs": [],
   "source": [
    "def run_episodes_memory(train, Q, policy, memory, env, num_episodes, batch_size, discount_factor, optimizer):\n",
    "    global_steps = 0  # Count the steps (do not reset at episode start, to compute epsilon)\n",
    "    episode_durations = []  #\n",
    "    state_values = []\n",
    "    init_state = env.reset()\n",
    "    for i in tqdm(range(1, num_episodes+1)):\n",
    "        state = env.reset()\n",
    "\n",
    "        steps = 0\n",
    "        while True:\n",
    "            # Set epsilon according to number of steps\n",
    "            policy.set_epsilon(global_steps)\n",
    "            # Increase step counts\n",
    "            steps += 1\n",
    "            global_steps += 1\n",
    "            # Sample an action, next state, reward and done\n",
    "            a = policy.sample_action(state)\n",
    "            s_next, r, done, _ = env.step(a)\n",
    "            # Add the transition to the memory buffer\n",
    "            memory.push((state, a, r, s_next, done))\n",
    "            # Perform training on the buffer\n",
    "            loss = train(Q, memory, optimizer, batch_size, discount_factor)\n",
    "            state = s_next\n",
    "            \n",
    "            if global_steps % 100 == 0:\n",
    "                with torch.no_grad():\n",
    "                    Q.eval()\n",
    "                    Q_vals = Q(torch.Tensor([init_state]))\n",
    "                    maxx, _ = torch.max(Q_vals, dim=1)\n",
    "                    state_values.append(maxx)\n",
    "\n",
    "            if done:\n",
    "#                 if i % 10 == 0:\n",
    "#                     print(\"{2} Episode {0} finished after {1} steps\"\n",
    "#                           .format(i, steps, '\\033[92m' if steps >= 195 else '\\033[99m'))\n",
    "                episode_durations.append(steps)\n",
    "                break\n",
    "    return episode_durations, state_values"
   ]
  },
  {
   "cell_type": "markdown",
   "metadata": {},
   "source": [
    "# Train network (now replay memory on)"
   ]
  },
  {
   "cell_type": "code",
   "execution_count": 7,
   "metadata": {},
   "outputs": [
    {
     "data": {
      "application/vnd.jupyter.widget-view+json": {
       "model_id": "b621c8d679a84375bf87a231528e3f89",
       "version_major": 2,
       "version_minor": 0
      },
      "text/plain": [
       "HBox(children=(IntProgress(value=0, max=10000), HTML(value='')))"
      ]
     },
     "metadata": {},
     "output_type": "display_data"
    },
    {
     "name": "stdout",
     "output_type": "stream",
     "text": [
      "\n"
     ]
    }
   ],
   "source": [
    "seed = 42  # This is not randomly chosen\n",
    "num_hidden = 128\n",
    "eps = 0.05\n",
    "\n",
    "# We will seed the algorithm (before initializing QNetwork!) for reproducibility\n",
    "random.seed(seed)\n",
    "torch.manual_seed(seed)\n",
    "env.seed(seed)\n",
    "\n",
    "Q_net = QNetwork(num_hidden=num_hidden)\n",
    "policy = EpsilonGreedyPolicy(Q_net, eps)\n",
    "\n",
    "num_episodes = 10000\n",
    "batch_size = 64\n",
    "discount_factor = 0.9\n",
    "learn_rate = 1e-3\n",
    "\n",
    "# We first test Replay Memory by setting the memory size to 10.000 \n",
    "memory = ReplayMemory(10000)\n",
    "\n",
    "optimizer = optim.Adam(Q_net.parameters(), learn_rate)\n",
    "episode_durations, state_values = run_episodes_memory(train, Q_net, policy, memory, env, num_episodes, batch_size, discount_factor, optimizer)"
   ]
  },
  {
   "cell_type": "code",
   "execution_count": 8,
   "metadata": {},
   "outputs": [
    {
     "data": {
      "image/png": "[encoded data removed]",
      "text/plain": [
       "<Figure size 432x288 with 1 Axes>"
      ]
     },
     "metadata": {
      "needs_background": "light"
     },
     "output_type": "display_data"
    },
    {
     "name": "stdout",
     "output_type": "stream",
     "text": [
      "964 10000\n"
     ]
    },
    {
     "data": {
      "image/png": "[encoded data removed]",
      "text/plain": [
       "<Figure size 432x288 with 1 Axes>"
      ]
     },
     "metadata": {
      "needs_background": "light"
     },
     "output_type": "display_data"
    }
   ],
   "source": [
    "plt.plot(smooth(np.array(state_values), 10))\n",
    "plt.ylabel('$\\max_a\\ Q(s,a)$')\n",
    "plt.show()\n",
    "print(len(state_values), len(episode_durations))\n",
    "plt.plot(smooth(np.array(episode_durations), 10))\n",
    "plt.ylabel('Episode duration')\n",
    "plt.show()"
   ]
  },
  {
   "cell_type": "markdown",
   "metadata": {},
   "source": [
    "# Proof of concept done, time for testing"
   ]
  },
  {
   "cell_type": "code",
   "execution_count": 9,
   "metadata": {},
   "outputs": [
    {
     "name": "stdout",
     "output_type": "stream",
     "text": [
      "Current memory size: 64\n"
     ]
    },
    {
     "data": {
      "application/vnd.jupyter.widget-view+json": {
       "model_id": "b52fae01ddc54a0ca4949fb4a589a692",
       "version_major": 2,
       "version_minor": 0
      },
      "text/plain": [
       "HBox(children=(IntProgress(value=0, max=1), HTML(value='')))"
      ]
     },
     "metadata": {},
     "output_type": "display_data"
    },
    {
     "name": "stdout",
     "output_type": "stream",
     "text": [
      "Replay memory off\n"
     ]
    },
    {
     "data": {
      "application/vnd.jupyter.widget-view+json": {
       "model_id": "f0065e6933654dab922d656b4844a9f6",
       "version_major": 2,
       "version_minor": 0
      },
      "text/plain": [
       "HBox(children=(IntProgress(value=0, max=10000), HTML(value='')))"
      ]
     },
     "metadata": {},
     "output_type": "display_data"
    },
    {
     "name": "stdout",
     "output_type": "stream",
     "text": [
      "\n",
      "Current memory size: 100\n"
     ]
    },
    {
     "data": {
      "application/vnd.jupyter.widget-view+json": {
       "model_id": "3ea312788d1d4c108e5f32d4c7d557af",
       "version_major": 2,
       "version_minor": 0
      },
      "text/plain": [
       "HBox(children=(IntProgress(value=0, max=1), HTML(value='')))"
      ]
     },
     "metadata": {},
     "output_type": "display_data"
    },
    {
     "data": {
      "application/vnd.jupyter.widget-view+json": {
       "model_id": "4b512736d5c348fcae40585fdb020d84",
       "version_major": 2,
       "version_minor": 0
      },
      "text/plain": [
       "HBox(children=(IntProgress(value=0, max=10000), HTML(value='')))"
      ]
     },
     "metadata": {},
     "output_type": "display_data"
    },
    {
     "name": "stdout",
     "output_type": "stream",
     "text": [
      "\n",
      "Current memory size: 500\n"
     ]
    },
    {
     "data": {
      "application/vnd.jupyter.widget-view+json": {
       "model_id": "03f5371dabe543ba993578324e8e0512",
       "version_major": 2,
       "version_minor": 0
      },
      "text/plain": [
       "HBox(children=(IntProgress(value=0, max=1), HTML(value='')))"
      ]
     },
     "metadata": {},
     "output_type": "display_data"
    },
    {
     "data": {
      "application/vnd.jupyter.widget-view+json": {
       "model_id": "deb4a77ee2484d5dbd8810189494bd8b",
       "version_major": 2,
       "version_minor": 0
      },
      "text/plain": [
       "HBox(children=(IntProgress(value=0, max=10000), HTML(value='')))"
      ]
     },
     "metadata": {},
     "output_type": "display_data"
    },
    {
     "name": "stdout",
     "output_type": "stream",
     "text": [
      "\n",
      "Current memory size: 1000\n"
     ]
    },
    {
     "data": {
      "application/vnd.jupyter.widget-view+json": {
       "model_id": "26ec77683b8b41339dc2105e59d330fd",
       "version_major": 2,
       "version_minor": 0
      },
      "text/plain": [
       "HBox(children=(IntProgress(value=0, max=1), HTML(value='')))"
      ]
     },
     "metadata": {},
     "output_type": "display_data"
    },
    {
     "data": {
      "application/vnd.jupyter.widget-view+json": {
       "model_id": "435b4ee1da0c4e4da70eb3f2abd02280",
       "version_major": 2,
       "version_minor": 0
      },
      "text/plain": [
       "HBox(children=(IntProgress(value=0, max=10000), HTML(value='')))"
      ]
     },
     "metadata": {},
     "output_type": "display_data"
    },
    {
     "name": "stdout",
     "output_type": "stream",
     "text": [
      "\n",
      "Current memory size: 10000\n"
     ]
    },
    {
     "data": {
      "application/vnd.jupyter.widget-view+json": {
       "model_id": "7c368842fb524f7ca9eaa1abebdc37ad",
       "version_major": 2,
       "version_minor": 0
      },
      "text/plain": [
       "HBox(children=(IntProgress(value=0, max=1), HTML(value='')))"
      ]
     },
     "metadata": {},
     "output_type": "display_data"
    },
    {
     "data": {
      "application/vnd.jupyter.widget-view+json": {
       "model_id": "f7039217cc1f4cacac98d2c5bfc73bda",
       "version_major": 2,
       "version_minor": 0
      },
      "text/plain": [
       "HBox(children=(IntProgress(value=0, max=10000), HTML(value='')))"
      ]
     },
     "metadata": {},
     "output_type": "display_data"
    },
    {
     "name": "stdout",
     "output_type": "stream",
     "text": [
      "\n"
     ]
    }
   ],
   "source": [
    "# Fixed hyperparams among experiments\n",
    "num_hidden = 128\n",
    "eps = 0.05\n",
    "num_episodes = 10000\n",
    "batch_size = 64\n",
    "discount_factor = 0.9\n",
    "learn_rate = 1e-3\n",
    "\n",
    "# Number of experiments to average results over\n",
    "num_experiments = 1\n",
    "\n",
    "# Memory sizes to be tested\n",
    "test_memory_sizes = [64, 100, 500, 1000, 10000]\n",
    "\n",
    "# Make buffers for the cumulative results\n",
    "cum_state_values = {i : [] for i in test_memory_sizes}\n",
    "cum_episode_durations = {i : [] for i in test_memory_sizes}\n",
    "\n",
    "for memory_size in test_memory_sizes:\n",
    "    print(\"Current memory size:\", memory_size)\n",
    "    for i in tqdm(range(num_experiments)):\n",
    "        \n",
    "        # Set the seed such that each update frequency is tested on the same seeds\n",
    "        random.seed(i)\n",
    "        torch.manual_seed(i)\n",
    "        env.seed(i)\n",
    "        \n",
    "        # Create network, policy and replaymemory (which is not used; renewed every batch)\n",
    "        Q_net = QNetwork(num_hidden=num_hidden)\n",
    "        policy = EpsilonGreedyPolicy(Q_net, eps)\n",
    "        \n",
    "        # Use current test memory size\n",
    "        memory = ReplayMemory(memory_size)\n",
    "\n",
    "        optimizer = optim.Adam(Q_net.parameters(), learn_rate)\n",
    "        \n",
    "        if memory_size == batch_size:\n",
    "            # Replay memory off\n",
    "            print(\"Replay memory off\")\n",
    "            episode_durations, state_values = run_episodes(\n",
    "                    train,\n",
    "                    Q_net, policy,\n",
    "                    memory,\n",
    "                    env,\n",
    "                    num_episodes,\n",
    "                    batch_size,\n",
    "                    discount_factor,\n",
    "                    optimizer,\n",
    "            )\n",
    "        else:\n",
    "            episode_durations, state_values = run_episodes_memory(\n",
    "                    train,\n",
    "                    Q_net, policy,\n",
    "                    memory,\n",
    "                    env,\n",
    "                    num_episodes,\n",
    "                    batch_size,\n",
    "                    discount_factor,\n",
    "                    optimizer,\n",
    "            )\n",
    "        \n",
    "        cum_state_values[memory_size].append(np.array(state_values))\n",
    "        cum_episode_durations[memory_size].append(np.array(episode_durations))"
   ]
  },
  {
   "cell_type": "code",
   "execution_count": 10,
   "metadata": {},
   "outputs": [
    {
     "name": "stdout",
     "output_type": "stream",
     "text": [
      "dict_keys([64, 100, 500, 1000, 10000])\n",
      "[[3.5731494e-04 3.6350933e-01 6.6207856e-01 9.8212707e-01 1.3394516e+00\n",
      "  1.7469672e+00 2.2199736e+00 2.7654660e+00 3.3836188e+00 4.0921888e+00\n",
      "  4.9059658e+00 5.8205361e+00 6.8272643e+00 7.9275603e+00 9.1354923e+00\n",
      "  1.0362455e+01 1.1879734e+01 1.3431518e+01 1.5087186e+01 1.6847715e+01\n",
      "  1.8714905e+01 2.0693445e+01 2.2782862e+01 2.5126011e+01 2.7256752e+01\n",
      "  2.9647945e+01 3.2132309e+01 3.4729397e+01 3.7408298e+01 4.0169407e+01\n",
      "  4.3024799e+01 4.6000381e+01 4.9061806e+01 5.2011475e+01 5.5484737e+01\n",
      "  5.8847332e+01 6.2105637e+01 6.5740753e+01 6.9451256e+01 7.3209671e+01\n",
      "  7.7075783e+01 8.1078064e+01 8.5178970e+01 8.9357475e+01 9.3590446e+01\n",
      "  9.7911270e+01 1.0233491e+02 1.0652134e+02 1.1139328e+02 1.1615875e+02\n",
      "  1.2064829e+02 1.2556475e+02 1.3054387e+02 1.3595844e+02 1.4104510e+02\n",
      "  1.4625719e+02 1.5158984e+02 1.5703482e+02 1.6255748e+02 1.6813177e+02\n",
      "  1.7377078e+02 1.7953511e+02 1.8500371e+02 1.9089075e+02 1.9726323e+02\n",
      "  2.0337677e+02 2.0961804e+02 2.1597313e+02 2.2228262e+02 2.2866768e+02\n",
      "  2.3519716e+02 2.4183397e+02 2.4849860e+02 2.5527983e+02 2.6213239e+02\n",
      "  2.6906628e+02 2.7599643e+02 2.8306204e+02 2.9021942e+02 2.9690601e+02\n",
      "  3.0468240e+02 3.1205206e+02 3.1946887e+02 3.2696780e+02 3.3458124e+02\n",
      "  3.4227438e+02 3.5006851e+02 3.5794794e+02 3.6573135e+02 3.7372992e+02\n",
      "  3.8186472e+02 3.8999991e+02 3.9771988e+02 4.0665942e+02 4.1443423e+02\n",
      "  4.2290210e+02 4.3195505e+02 4.4048981e+02 4.4846851e+02 4.5773529e+02\n",
      "  4.6598279e+02]]\n",
      "[[0.00035731 0.00035731 0.00035731 0.00035731 0.00035731 0.00035731\n",
      "  0.00035731 0.00035731 0.00035731 0.00035731 0.00035731 0.00035731\n",
      "  0.00035731 0.00035731 0.00035731 0.00035731 0.00035731 0.00035731\n",
      "  0.00035731 0.00035731 0.00035731 0.00035731 0.00035731 0.00035731\n",
      "  0.00035731 0.00035731 0.00035731 0.00035731 0.00035731 0.00035731\n",
      "  0.00035731 0.00035731 0.00035731 0.00035731 0.00035731 0.00035731\n",
      "  0.00035731 0.00035731 0.00035731 0.00035731 0.00035731 0.00035731\n",
      "  0.00035731 0.00035731 0.00035731 0.00035731 0.00035731 0.00035731\n",
      "  0.00035731 0.00035731 0.00035731 0.00035731 0.00035731 0.00035731\n",
      "  0.00035731 0.00035731 0.00035731 0.00035731 0.00035731 0.00035731\n",
      "  0.00035731 0.00035731 0.00035731 0.00035731 0.00035731 0.00035731\n",
      "  0.00035731 0.00035731 0.00035731 0.00035731 0.00035731 0.00035731\n",
      "  0.00035731 0.00035731 0.00035731 0.00035731 0.00035731 0.00035731\n",
      "  0.00035731 0.00035731 0.00035731 0.00035731 0.00035731 0.00035731\n",
      "  0.00035731 0.00035731 0.00035731 0.00035731 0.00035731 0.00035731\n",
      "  0.00035731 0.00035731 0.00035731 0.00035731 0.00035731 0.00035731\n",
      "  0.00035731 0.00035731 0.00035731 0.00035731 0.00035731 0.00035731\n",
      "  0.00035731 0.00035731 0.00035731 0.00035731 0.00035731 0.00035731\n",
      "  0.00035731 0.00035731 0.00035731 0.00035731 0.00035731 0.00035731\n",
      "  0.00035731 0.00035731 0.00035731 0.00035731 0.00035731 0.00035731\n",
      "  0.00035731 0.00035731 0.00035731 0.00035731 0.00035731 0.00035731\n",
      "  0.00035731 0.00035731 0.00035731 0.00035731 0.00035731 0.00035731\n",
      "  0.00035731 0.00035731 0.00035731 0.00035731 0.00035731 0.00035731\n",
      "  0.00035731 0.00035731 0.00035731 0.00035731 0.00035731 0.00035731\n",
      "  0.00035731 0.00035731 0.00035731 0.00035731 0.00035731 0.00035731\n",
      "  0.00035731 0.00035731 0.00035731 0.00035731 0.00035731 0.00035731\n",
      "  0.00035731 0.00035731 0.00035731 0.00035731 0.00035731 0.00035731\n",
      "  0.00035731 0.00035731 0.00035731 0.00035731 0.00035731 0.00035731\n",
      "  0.00035731 0.00035731 0.00035731 0.00035731 0.00035731 0.00035731\n",
      "  0.00035731 0.00035731 0.00035731 0.00035731 0.00035731 0.00035731\n",
      "  0.00035731 0.00035731 0.00035731 0.00035731 0.00035731 0.00035731\n",
      "  0.00035731 0.00035731 0.00035731 0.00035731 0.00035731 0.00035731\n",
      "  0.00035731 0.00035731 0.00035731 0.00035731 0.00035731 0.00035731\n",
      "  0.00035731 0.00035731 0.00035731 0.00035731 0.00035731 0.00035731\n",
      "  0.00035731 0.00035731 0.00035731 0.00035731 0.00035731 0.00035731\n",
      "  0.00035731 0.00035731 0.00035731 0.00035731 0.00035731 0.00035731\n",
      "  0.00035731 0.00035731 0.00035731 0.00035731 0.00035731 0.00035731\n",
      "  0.00035731 0.00035731 0.00035731 0.00035731 0.00035731 0.00035731\n",
      "  0.00035731 0.00035731 0.00035731 0.00035731 0.00035731 0.00035731\n",
      "  0.00035731 0.00035731 0.00035731 0.00035731 0.00035731 0.00035731\n",
      "  0.00035731 0.00035731 0.00035731 0.00035731 0.00035731 0.00035731\n",
      "  0.00035731 0.00035731 0.00035731 0.00035731 0.00035731 0.00035731\n",
      "  0.00035731 0.00035731 0.00035731 0.00035731 0.00035731 0.00035731\n",
      "  0.00035731 0.00035731 0.00035731 0.00035731 0.00035731 0.00035731\n",
      "  0.00035731 0.00035731 0.00035731 0.00035731 0.00035731 0.00035731\n",
      "  0.00035731 0.00035731 0.00035731 0.00035731 0.00035731 0.00035731\n",
      "  0.00035731 0.00035731 0.00035731 0.00035731 0.00035731 0.00035731\n",
      "  0.00035731 0.00035731 0.00035731 0.00035731 0.00035731 0.00035731\n",
      "  0.00035731 0.00035731 0.00035731 0.00035731 0.00035731 0.00035731\n",
      "  0.00035731 0.00035731 0.00035731 0.00035731 0.00035731 0.00035731\n",
      "  0.00035731 0.00035731 0.00035731 0.00035731 0.00035731 0.00035731\n",
      "  0.00035731 0.00035731 0.00035731 0.00035731 0.00035731 0.00035731\n",
      "  0.00035731 0.00035731 0.00035731 0.00035731 0.00035731 0.00035731\n",
      "  0.00035731 0.00035731 0.00035731 0.00035731 0.00035731 0.00035731\n",
      "  0.00035731 0.00035731 0.00035731 0.00035731 0.00035731 0.00035731\n",
      "  0.00035731 0.00035731 0.00035731 0.00035731 0.00035731 0.00035731\n",
      "  0.00035731 0.00035731 0.00035731 0.00035731 0.00035731 0.00035731\n",
      "  0.00035731 0.00035731 0.00035731 0.00035731 0.00035731 0.00035731\n",
      "  0.00035731 0.00035731 0.00035731 0.00035731 0.00035731 0.00035731\n",
      "  0.00035731 0.00035731 0.00035731 0.00035731 0.00035731 0.00035731\n",
      "  0.00035731 0.00035731 0.00035731 0.00035731 0.00035731 0.00035731\n",
      "  0.00035731 0.00035731 0.00035731 0.00035731 0.00035731 0.00035731\n",
      "  0.00035731 0.00035731 0.00035731 0.00035731 0.00035731 0.00035731\n",
      "  0.00035731 0.00035731 0.00035731 0.00035731 0.00035731 0.00035731\n",
      "  0.00035731 0.00035731 0.00035731 0.00035731 0.00035731 0.00035731\n",
      "  0.00035731 0.00035731 0.00035731 0.00035731 0.00035731 0.00035731\n",
      "  0.00035731 0.00035731 0.00035731 0.00035731 0.00035731 0.00035731\n",
      "  0.00035731 0.00035731 0.00035731 0.00035731 0.00035731 0.00035731\n",
      "  0.00035731 0.00035731 0.00035731 0.00035731 0.00035731 0.00035731\n",
      "  0.00035731 0.00035731 0.00035731 0.00035731 0.00035731 0.00035731\n",
      "  0.00035731 0.00035731 0.00035731 0.00035731 0.00035731 0.00035731\n",
      "  0.00035731 0.00035731 0.00035731 0.00035731 0.00035731 0.00035731\n",
      "  0.00035731 0.00035731 0.00035731 0.00035731 0.00035731 0.00035731\n",
      "  0.00035731 0.00035731 0.00035731 0.00035731 0.00035731 0.00035731\n",
      "  0.00035731 0.00035731 0.00035731 0.00035731 0.00035731 0.00035731\n",
      "  0.00035731 0.00035731 0.00035731 0.00035731 0.00035731 0.00035731\n",
      "  0.00035731 0.00035731 0.00035731 0.00035731 0.00035731 0.00035731\n",
      "  0.00035731 0.00035731 0.00035731 0.00035731 0.00035731 0.00035731\n",
      "  0.00035731 0.00035731 0.00035731 0.00035731 0.00035731 0.00035731\n",
      "  0.00035731 0.00035731 0.00035731 0.00035731 0.00035731 0.00035731\n",
      "  0.00035731 0.00035731 0.00035731 0.00035731 0.00035731 0.00035731\n",
      "  0.00035731 0.00035731 0.00035731 0.00035731 0.00035731 0.00035731\n",
      "  0.00035731 0.00035731 0.00035731 0.00035731 0.00035731 0.00035731\n",
      "  0.00035731 0.00035731 0.00035731 0.00035731 0.00035731 0.00035731\n",
      "  0.00035731 0.00035731 0.00035731 0.00035731 0.00035731 0.00035731\n",
      "  0.00035731 0.00035731 0.00035731 0.00035731 0.00035731 0.00035731\n",
      "  0.00035731 0.00035731 0.00035731 0.00035731 0.00035731 0.00035731\n",
      "  0.00035731 0.00035731 0.00035731 0.00035731 0.00035731 0.00035731\n",
      "  0.00035731 0.00035731 0.00035731 0.00035731 0.00035731 0.00035731\n",
      "  0.00035731 0.00035731 0.00035731 0.00035731 0.00035731 0.00035731\n",
      "  0.00035731 0.00035731 0.00035731 0.00035731 0.00035731 0.00035731\n",
      "  0.00035731 0.00035731 0.00035731 0.00035731 0.00035731 0.00035731\n",
      "  0.00035731 0.00035731 0.00035731 0.00035731 0.00035731 0.00035731\n",
      "  0.00035731 0.00035731 0.00035731 0.00035731 0.00035731 0.00035731\n",
      "  0.00035731 0.00035731 0.00035731 0.00035731 0.00035731 0.00035731\n",
      "  0.00035731 0.00035731 0.00035731 0.00035731 0.00035731 0.00035731\n",
      "  0.00035731 0.00035731 0.00035731 0.00035731 0.00035731 0.00035731\n",
      "  0.00035731 0.00035731 0.00035731 0.00035731 0.00035731 0.00035731\n",
      "  0.00035731 0.00035731 0.00035731 0.00035731 0.00035731 0.00035731\n",
      "  0.00035731 0.00035731 0.00035731 0.00035731 0.00035731 0.00035731\n",
      "  0.00035731 0.00035731 0.00035731 0.00035731 0.00035731 0.00035731\n",
      "  0.00035731 0.00035731 0.00035731 0.00035731 0.00035731 0.00035731\n",
      "  0.00035731 0.00035731 0.00035731 0.00035731 0.00035731 0.00035731\n",
      "  0.00035731 0.00035731 0.00035731 0.00035731 0.00035731 0.00035731\n",
      "  0.00035731 0.00035731 0.00035731 0.00035731 0.00035731 0.00035731\n",
      "  0.00035731 0.00035731 0.00035731 0.00035731 0.00035731 0.00035731\n",
      "  0.00035731 0.00035731 0.00035731 0.00035731 0.00035731 0.00035731\n",
      "  0.00035731 0.00035731 0.00035731 0.00035731 0.00035731 0.00035731\n",
      "  0.00035731 0.00035731 0.00035731 0.00035731 0.00035731 0.00035731\n",
      "  0.00035731 0.00035731 0.00035731 0.00035731 0.00035731 0.00035731\n",
      "  0.00035731 0.00035731 0.00035731 0.00035731 0.00035731 0.00035731\n",
      "  0.00035731 0.00035731 0.00035731 0.00035731 0.00035731 0.00035731\n",
      "  0.00035731 0.00035731 0.00035731 0.00035731 0.00035731 0.00035731\n",
      "  0.00035731 0.00035731 0.00035731 0.00035731 0.00035731 0.00035731\n",
      "  0.00035731 0.00035731 0.00035731 0.00035731 0.00035731 0.00035731\n",
      "  0.00035731 0.00035731 0.00035731 0.00035731 0.00035731 0.00035731\n",
      "  0.00035731 0.00035731 0.00035731 0.00035731 0.00035731 0.00035731\n",
      "  0.00035731 0.00035731 0.00035731 0.00035731 0.00035731 0.00035731\n",
      "  0.00035731 0.00035731 0.00035731 0.00035731 0.00035731 0.00035731\n",
      "  0.00035731 0.00035731 0.00035731 0.00035731 0.00035731 0.00035731\n",
      "  0.00035731 0.00035731 0.00035731 0.00035731 0.00035731 0.00035731\n",
      "  0.00035731 0.00035731 0.00035731 0.00035731 0.00035731 0.00035731\n",
      "  0.00035731 0.00035731 0.00035731 0.00035731 0.00035731 0.00035731\n",
      "  0.00035731 0.00035731 0.00035731 0.00035731 0.00035731 0.00035731\n",
      "  0.00035731 0.00035731 0.00035731 0.00035731 0.00035731 0.00035731\n",
      "  0.00035731 0.00035731 0.00035731 0.00035731 0.00035731 0.00035731\n",
      "  0.00035731 0.00035731 0.00035731 0.00035731 0.00035731 0.00035731\n",
      "  0.00035731 0.00035731 0.00035731 0.00035731 0.00035731 0.00035731\n",
      "  0.00035731 0.00035731 0.00035731 0.00035731 0.00035731 0.00035731\n",
      "  0.00035731 0.00035731 0.00035731 0.00035731 0.00035731 0.00035731\n",
      "  0.00035731 0.00035731 0.00035731 0.00035731 0.00035731 0.00035731\n",
      "  0.00035731 0.00035731 0.00035731 0.00035731 0.00035731 0.00035731\n",
      "  0.00035731 0.00035731 0.00035731 0.00035731 0.00035731 0.00035731\n",
      "  0.00035731 0.00035731 0.00035731 0.00035731 0.00035731 0.00035731\n",
      "  0.00035731 0.00035731 0.00035731 0.00035731 0.00035731 0.00035731\n",
      "  0.00035731 0.00035731 0.00035731 0.00035731 0.00035731 0.00035731\n",
      "  0.00035731 0.00035731 0.00035731 0.00035731 0.00035731 0.00035731\n",
      "  0.00035731 0.00035731 0.00035731 0.00035731 0.00035731 0.00035731\n",
      "  0.00035731 0.00035731 0.00035731 0.00035731 0.00035731 0.00035731\n",
      "  0.00035731 0.00035731 0.00035731 0.00035731 0.00035731 0.00035731\n",
      "  0.00035731 0.00035731 0.00035731 0.00035731 0.00035731 0.00035731\n",
      "  0.00035731 0.00035731 0.00035731 0.00035731 0.00035731 0.00035731\n",
      "  0.00035731 0.00035731 0.00035731 0.00035731 0.00035731 0.00035731\n",
      "  0.00035731 0.00035731 0.00035731 0.00035731 0.00035731 0.00035731\n",
      "  0.00035731 0.00035731 0.00035731 0.00035731 0.00035731 0.00035731\n",
      "  0.00035731 0.00035731 0.00035731 0.00035731 0.00035731 0.00035731\n",
      "  0.00035731 0.00035731 0.00035731 0.00035731 0.00035731 0.00035731\n",
      "  0.00035731 0.00035731 0.00035731 0.00035731 0.00035731 0.00035731\n",
      "  0.00035731 0.00035731 0.00035731 0.00035731 0.00035731 0.00035731\n",
      "  0.00035731 0.00035731 0.00035731 0.00035731 0.00035731 0.00035731\n",
      "  0.00035731 0.00035731 0.00035731 0.00035731 0.00035731 0.00035731\n",
      "  0.00035731 0.00035731 0.00035731 0.00035731 0.00035731 0.00035731\n",
      "  0.00035731 0.00035731 0.00035731 0.00035731 0.00035731 0.00035731\n",
      "  0.00035731 0.00035731 0.00035731 0.00035731 0.00035731 0.00035731\n",
      "  0.00035731 0.00035731 0.00035731 0.00035731 0.00035731 0.00035731\n",
      "  0.00035731 0.00035731 0.00035731 0.00035731 0.00035731 0.00035731\n",
      "  0.00035731 0.00035731 0.00035731 0.00035731 0.00035731 0.00035731\n",
      "  0.00035731 0.00035731 0.00035731 0.00035731 0.00035731 0.00035731\n",
      "  0.00035731 0.00035731 0.00035731 0.00035731 0.00035731 0.00035731\n",
      "  0.00035731 0.00035731 0.00035731 0.00035731 0.00035731 0.00035731\n",
      "  0.00035731 0.00035731]]\n",
      "[[0.00035731 0.00035731 0.00035731 0.00035731 0.00035731 0.00035731\n",
      "  0.00035731 0.00035731 0.00035731 0.00035731 0.00035731 0.00035731\n",
      "  0.00035731 0.00035731 0.00035731 0.00035731 0.00035731 0.00035731\n",
      "  0.00035731 0.00035731 0.00035731 0.00035731 0.00035731 0.00035731\n",
      "  0.00035731 0.00035731 0.00035731 0.00035731 0.00035731 0.00035731\n",
      "  0.00035731 0.00035731 0.00035731 0.00035731 0.00035731 0.00035731\n",
      "  0.00035731 0.00035731 0.00035731 0.00035731 0.00035731 0.00035731\n",
      "  0.00035731 0.00035731 0.00035731 0.00035731 0.00035731 0.00035731\n",
      "  0.00035731 0.00035731 0.00035731 0.00035731 0.00035731 0.00035731\n",
      "  0.00035731 0.00035731 0.00035731 0.00035731 0.00035731 0.00035731\n",
      "  0.00035731 0.00035731 0.00035731 0.00035731 0.00035731 0.00035731\n",
      "  0.00035731 0.00035731 0.00035731 0.00035731 0.00035731 0.00035731\n",
      "  0.00035731 0.00035731 0.00035731 0.00035731 0.00035731 0.00035731\n",
      "  0.00035731 0.00035731 0.00035731 0.00035731 0.00035731 0.00035731\n",
      "  0.00035731 0.00035731 0.00035731 0.00035731 0.00035731 0.00035731\n",
      "  0.00035731 0.00035731 0.00035731 0.00035731 0.00035731 0.00035731\n",
      "  0.00035731 0.00035731 0.00035731 0.00035731 0.00035731 0.00035731\n",
      "  0.00035731 0.00035731 0.00035731 0.00035731 0.00035731 0.00035731\n",
      "  0.00035731 0.00035731 0.00035731 0.00035731 0.00035731 0.00035731\n",
      "  0.00035731 0.00035731 0.00035731 0.00035731 0.00035731 0.00035731\n",
      "  0.00035731 0.00035731 0.00035731 0.00035731 0.00035731 0.00035731\n",
      "  0.00035731 0.00035731 0.00035731 0.00035731 0.00035731 0.00035731\n",
      "  0.00035731 0.00035731 0.00035731 0.00035731 0.00035731 0.00035731\n",
      "  0.00035731 0.00035731 0.00035731 0.00035731 0.00035731 0.00035731\n",
      "  0.00035731 0.00035731 0.00035731 0.00035731 0.00035731 0.00035731\n",
      "  0.00035731 0.00035731 0.00035731 0.00035731 0.00035731 0.00035731\n",
      "  0.00035731 0.00035731 0.00035731 0.00035731 0.00035731 0.00035731\n",
      "  0.00035731 0.00035731 0.00035731 0.00035731 0.00035731 0.00035731\n",
      "  0.00035731 0.00035731 0.00035731 0.00035731 0.00035731 0.00035731\n",
      "  0.00035731 0.00035731 0.00035731 0.00035731 0.00035731 0.00035731\n",
      "  0.00035731 0.00035731 0.00035731 0.00035731 0.00035731 0.00035731\n",
      "  0.00035731 0.00035731 0.00035731 0.00035731 0.00035731 0.00035731\n",
      "  0.00035731 0.00035731 0.00035731 0.00035731 0.00035731 0.00035731\n",
      "  0.00035731 0.00035731 0.00035731 0.00035731 0.00035731 0.00035731\n",
      "  0.00035731 0.00035731 0.00035731 0.00035731 0.00035731 0.00035731\n",
      "  0.00035731 0.00035731 0.00035731 0.00035731 0.00035731 0.00035731\n",
      "  0.00035731 0.00035731 0.00035731 0.00035731 0.00035731 0.00035731\n",
      "  0.00035731 0.00035731 0.00035731 0.00035731 0.00035731 0.00035731\n",
      "  0.00035731 0.00035731 0.00035731 0.00035731 0.00035731 0.00035731\n",
      "  0.00035731 0.00035731 0.00035731 0.00035731 0.00035731 0.00035731\n",
      "  0.00035731 0.00035731 0.00035731 0.00035731 0.00035731 0.00035731\n",
      "  0.00035731 0.00035731 0.00035731 0.00035731 0.00035731 0.00035731\n",
      "  0.00035731 0.00035731 0.00035731 0.00035731 0.00035731 0.00035731\n",
      "  0.00035731 0.00035731 0.00035731 0.00035731 0.00035731 0.00035731\n",
      "  0.00035731 0.00035731 0.00035731 0.00035731 0.00035731 0.00035731\n",
      "  0.00035731 0.00035731 0.00035731 0.00035731 0.00035731 0.00035731\n",
      "  0.00035731 0.00035731 0.00035731 0.00035731 0.00035731 0.00035731\n",
      "  0.00035731 0.00035731 0.00035731 0.00035731 0.00035731 0.00035731\n",
      "  0.00035731 0.00035731 0.00035731 0.00035731 0.00035731 0.00035731\n",
      "  0.00035731 0.00035731 0.00035731 0.00035731 0.00035731 0.00035731\n",
      "  0.00035731 0.00035731 0.00035731 0.00035731 0.00035731 0.00035731\n",
      "  0.00035731 0.00035731 0.00035731 0.00035731 0.00035731 0.00035731\n",
      "  0.00035731 0.00035731 0.00035731 0.00035731 0.00035731 0.00035731\n",
      "  0.00035731 0.00035731 0.00035731 0.00035731 0.00035731 0.00035731\n",
      "  0.00035731 0.00035731 0.00035731 0.00035731 0.00035731 0.00035731\n",
      "  0.00035731 0.00035731 0.00035731 0.00035731 0.00035731 0.00035731\n",
      "  0.00035731 0.00035731 0.00035731 0.00035731 0.00035731 0.00035731\n",
      "  0.00035731 0.00035731 0.00035731 0.00035731 0.00035731 0.00035731\n",
      "  0.00035731 0.00035731 0.00035731 0.00035731 0.00035731 0.00035731\n",
      "  0.00035731 0.00035731 0.00035731 0.00035731 0.00035731 0.00035731\n",
      "  0.00035731 0.00035731 0.00035731 0.00035731 0.00035731 0.00035731\n",
      "  0.00035731 0.00035731 0.00035731 0.00035731 0.00035731 0.00035731\n",
      "  0.00035731 0.00035731 0.00035731 0.00035731 0.00035731 0.00035731\n",
      "  0.00035731 0.00035731 0.00035731 0.00035731 0.00035731 0.00035731\n",
      "  0.00035731 0.00035731 0.00035731 0.00035731 0.00035731 0.00035731\n",
      "  0.00035731 0.00035731 0.00035731 0.00035731 0.00035731 0.00035731\n",
      "  0.00035731 0.00035731 0.00035731 0.00035731 0.00035731 0.00035731\n",
      "  0.00035731 0.00035731 0.00035731 0.00035731 0.00035731 0.00035731\n",
      "  0.00035731 0.00035731 0.00035731 0.00035731 0.00035731 0.00035731\n",
      "  0.00035731 0.00035731 0.00035731 0.00035731 0.00035731 0.00035731\n",
      "  0.00035731 0.00035731 0.00035731 0.00035731 0.00035731 0.00035731\n",
      "  0.00035731 0.00035731 0.00035731 0.00035731 0.00035731 0.00035731\n",
      "  0.00035731 0.00035731 0.00035731 0.00035731 0.00035731 0.00035731\n",
      "  0.00035731 0.00035731 0.00035731 0.00035731 0.00035731 0.00035731\n",
      "  0.00035731 0.00035731 0.00035731 0.00035731 0.00035731 0.00035731\n",
      "  0.00035731 0.00035731 0.00035731 0.00035731 0.00035731 0.00035731\n",
      "  0.00035731 0.00035731 0.00035731 0.00035731 0.00035731 0.00035731\n",
      "  0.00035731 0.00035731 0.00035731 0.00035731 0.00035731 0.00035731\n",
      "  0.00035731 0.00035731 0.00035731 0.00035731 0.00035731 0.00035731\n",
      "  0.00035731 0.00035731 0.00035731 0.00035731 0.00035731 0.00035731\n",
      "  0.00035731 0.00035731 0.00035731 0.00035731 0.00035731 0.00035731\n",
      "  0.00035731 0.00035731 0.00035731 0.00035731 0.00035731 0.00035731\n",
      "  0.00035731 0.00035731 0.00035731 0.00035731 0.00035731 0.00035731\n",
      "  0.00035731 0.00035731 0.00035731 0.00035731 0.00035731 0.00035731\n",
      "  0.00035731 0.00035731 0.00035731 0.00035731 0.00035731 0.00035731\n",
      "  0.00035731 0.00035731 0.00035731 0.00035731 0.00035731 0.00035731\n",
      "  0.00035731 0.00035731 0.00035731 0.00035731 0.00035731 0.00035731\n",
      "  0.00035731 0.00035731 0.00035731 0.00035731 0.00035731 0.00035731\n",
      "  0.00035731 0.00035731 0.00035731 0.00035731 0.00035731 0.00035731\n",
      "  0.00035731 0.00035731 0.00035731 0.00035731 0.00035731 0.00035731\n",
      "  0.00035731 0.00035731 0.00035731 0.00035731 0.00035731 0.00035731\n",
      "  0.00035731 0.00035731 0.00035731 0.00035731 0.00035731 0.00035731\n",
      "  0.00035731 0.00035731 0.00035731 0.00035731 0.00035731 0.00035731\n",
      "  0.00035731 0.00035731 0.00035731 0.00035731 0.00035731 0.00035731\n",
      "  0.00035731 0.00035731 0.00035731 0.00035731 0.00035731 0.00035731\n",
      "  0.00035731 0.00035731 0.00035731 0.00035731 0.00035731 0.00035731\n",
      "  0.00035731 0.00035731 0.00035731 0.00035731 0.00035731 0.00035731\n",
      "  0.00035731 0.00035731 0.00035731 0.00035731 0.00035731 0.00035731\n",
      "  0.00035731 0.00035731 0.00035731 0.00035731 0.00035731 0.00035731\n",
      "  0.00035731 0.00035731 0.00035731 0.00035731 0.00035731 0.00035731\n",
      "  0.00035731 0.00035731 0.00035731 0.00035731 0.00035731 0.00035731\n",
      "  0.00035731 0.00035731 0.00035731 0.00035731 0.00035731 0.00035731\n",
      "  0.00035731 0.00035731 0.00035731 0.00035731 0.00035731 0.00035731\n",
      "  0.00035731 0.00035731 0.00035731 0.00035731 0.00035731 0.00035731\n",
      "  0.00035731 0.00035731 0.00035731 0.00035731 0.00035731 0.00035731\n",
      "  0.00035731 0.00035731 0.00035731 0.00035731 0.00035731 0.00035731\n",
      "  0.00035731 0.00035731 0.00035731 0.00035731 0.00035731 0.00035731\n",
      "  0.00035731 0.00035731 0.00035731 0.00035731 0.00035731 0.00035731\n",
      "  0.00035731 0.00035731 0.00035731 0.00035731 0.00035731 0.00035731\n",
      "  0.00035731 0.00035731 0.00035731 0.00035731 0.00035731 0.00035731\n",
      "  0.00035731 0.00035731 0.00035731 0.00035731 0.00035731 0.00035731\n",
      "  0.00035731 0.00035731 0.00035731 0.00035731 0.00035731 0.00035731\n",
      "  0.00035731 0.00035731 0.00035731 0.00035731 0.00035731 0.00035731\n",
      "  0.00035731 0.00035731 0.00035731 0.00035731 0.00035731 0.00035731\n",
      "  0.00035731 0.00035731 0.00035731 0.00035731 0.00035731 0.00035731\n",
      "  0.00035731 0.00035731 0.00035731 0.00035731 0.00035731 0.00035731\n",
      "  0.00035731 0.00035731 0.00035731 0.00035731 0.00035731 0.00035731\n",
      "  0.00035731 0.00035731 0.00035731 0.00035731 0.00035731 0.00035731\n",
      "  0.00035731 0.00035731 0.00035731 0.00035731 0.00035731 0.00035731\n",
      "  0.00035731 0.00035731 0.00035731 0.00035731 0.00035731 0.00035731\n",
      "  0.00035731 0.00035731 0.00035731 0.00035731 0.00035731 0.00035731\n",
      "  0.00035731 0.00035731 0.00035731 0.00035731 0.00035731 0.00035731\n",
      "  0.00035731 0.00035731 0.00035731 0.00035731 0.00035731 0.00035731\n",
      "  0.00035731 0.00035731 0.00035731 0.00035731 0.00035731 0.00035731\n",
      "  0.00035731 0.00035731 0.00035731 0.00035731 0.00035731 0.00035731\n",
      "  0.00035731 0.00035731 0.00035731 0.00035731 0.00035731 0.00035731\n",
      "  0.00035731 0.00035731 0.00035731 0.00035731 0.00035731 0.00035731\n",
      "  0.00035731 0.00035731 0.00035731 0.00035731 0.00035731 0.00035731\n",
      "  0.00035731 0.00035731 0.00035731 0.00035731 0.00035731 0.00035731\n",
      "  0.00035731 0.00035731 0.00035731 0.00035731 0.00035731 0.00035731\n",
      "  0.00035731 0.00035731 0.00035731 0.00035731 0.00035731 0.00035731\n",
      "  0.00035731 0.00035731 0.00035731 0.00035731 0.00035731 0.00035731\n",
      "  0.00035731 0.00035731 0.00035731 0.00035731 0.00035731 0.00035731\n",
      "  0.00035731 0.00035731 0.00035731 0.00035731 0.00035731 0.00035731\n",
      "  0.00035731 0.00035731 0.00035731 0.00035731 0.00035731 0.00035731\n",
      "  0.00035731 0.00035731 0.00035731 0.00035731 0.00035731 0.00035731\n",
      "  0.00035731 0.00035731 0.00035731 0.00035731 0.00035731 0.00035731\n",
      "  0.00035731 0.00035731 0.00035731 0.00035731 0.00035731 0.00035731\n",
      "  0.00035731 0.00035731 0.00035731 0.00035731 0.00035731 0.00035731\n",
      "  0.00035731 0.00035731 0.00035731 0.00035731 0.00035731 0.00035731\n",
      "  0.00035731 0.00035731 0.00035731 0.00035731 0.00035731 0.00035731\n",
      "  0.00035731 0.00035731 0.00035731 0.00035731 0.00035731 0.00035731\n",
      "  0.00035731 0.00035731 0.00035731 0.00035731 0.00035731 0.00035731\n",
      "  0.00035731 0.00035731 0.00035731 0.00035731 0.00035731 0.00035731\n",
      "  0.00035731 0.00035731 0.00035731 0.00035731 0.00035731 0.00035731\n",
      "  0.00035731 0.00035731 0.00035731 0.00035731 0.00035731 0.00035731\n",
      "  0.00035731 0.00035731 0.00035731 0.00035731 0.00035731 0.00035731\n",
      "  0.00035731 0.00035731 0.00035731 0.00035731 0.00035731 0.00035731\n",
      "  0.00035731 0.00035731 0.00035731 0.00035731 0.00035731 0.00035731\n",
      "  0.00035731 0.00035731 0.00035731 0.00035731 0.00035731 0.00035731\n",
      "  0.00035731 0.00035731 0.00035731 0.00035731 0.00035731 0.00035731\n",
      "  0.00035731 0.00035731 0.00035731 0.00035731 0.00035731 0.00035731\n",
      "  0.00035731 0.00035731 0.00035731 0.00035731 0.00035731 0.00035731\n",
      "  0.00035731 0.00035731 0.00035731 0.00035731 0.00035731 0.00035731\n",
      "  0.00035731 0.00035731 0.00035731 0.00035731 0.00035731 0.00035731\n",
      "  0.00035731 0.00035731 0.00035731 0.00035731 0.00035731 0.00035731\n",
      "  0.00035731 0.00035731 0.00035731 0.00035731 0.00035731 0.00035731\n",
      "  0.00035731 0.00035731 0.00035731 0.00035731 0.00035731 0.00035731\n",
      "  0.00035731 0.00035731 0.00035731 0.00035731 0.00035731 0.00035731\n",
      "  0.00035731 0.00035731 0.00035731 0.00035731 0.00035731 0.00035731\n",
      "  0.00035731 0.00035731]]\n"
     ]
    },
    {
     "ename": "ValueError",
     "evalue": "operands could not be broadcast together with shapes (101,) (962,) ",
     "output_type": "error",
     "traceback": [
      "\u001b[0;31m---------------------------------------------------------------------------\u001b[0m",
      "\u001b[0;31mValueError\u001b[0m                                Traceback (most recent call last)",
      "\u001b[0;32m<ipython-input-10-e6e6aea1db66>\u001b[0m in \u001b[0;36m<module>\u001b[0;34m\u001b[0m\n\u001b[1;32m     13\u001b[0m     \u001b[0mstds\u001b[0m \u001b[0;34m=\u001b[0m \u001b[0mnp\u001b[0m\u001b[0;34m.\u001b[0m\u001b[0mstd\u001b[0m\u001b[0;34m(\u001b[0m\u001b[0mcum_state_values\u001b[0m\u001b[0;34m[\u001b[0m\u001b[0msize\u001b[0m\u001b[0;34m]\u001b[0m\u001b[0;34m,\u001b[0m \u001b[0maxis\u001b[0m\u001b[0;34m=\u001b[0m\u001b[0;36m0\u001b[0m\u001b[0;34m)\u001b[0m\u001b[0;34m\u001b[0m\u001b[0;34m\u001b[0m\u001b[0m\n\u001b[1;32m     14\u001b[0m     \u001b[0mmean_values\u001b[0m \u001b[0;34m=\u001b[0m \u001b[0mnp\u001b[0m\u001b[0;34m.\u001b[0m\u001b[0mmean\u001b[0m\u001b[0;34m(\u001b[0m\u001b[0mcum_state_values\u001b[0m\u001b[0;34m[\u001b[0m\u001b[0msize\u001b[0m\u001b[0;34m]\u001b[0m\u001b[0;34m,\u001b[0m \u001b[0maxis\u001b[0m\u001b[0;34m=\u001b[0m\u001b[0;36m0\u001b[0m\u001b[0;34m)\u001b[0m\u001b[0;34m\u001b[0m\u001b[0;34m\u001b[0m\u001b[0m\n\u001b[0;32m---> 15\u001b[0;31m     \u001b[0mplt\u001b[0m\u001b[0;34m.\u001b[0m\u001b[0mfill_between\u001b[0m\u001b[0;34m(\u001b[0m\u001b[0mnp\u001b[0m\u001b[0;34m.\u001b[0m\u001b[0mlinspace\u001b[0m\u001b[0;34m(\u001b[0m\u001b[0;36m1\u001b[0m\u001b[0;34m,\u001b[0m \u001b[0;34m(\u001b[0m\u001b[0mnum_episodes\u001b[0m\u001b[0;34m//\u001b[0m\u001b[0;36m100\u001b[0m\u001b[0;34m)\u001b[0m\u001b[0;34m+\u001b[0m\u001b[0;36m1\u001b[0m\u001b[0;34m,\u001b[0m \u001b[0mnum\u001b[0m\u001b[0;34m=\u001b[0m\u001b[0;34m(\u001b[0m\u001b[0mnum_episodes\u001b[0m\u001b[0;34m//\u001b[0m\u001b[0;36m100\u001b[0m\u001b[0;34m)\u001b[0m\u001b[0;34m+\u001b[0m\u001b[0;36m1\u001b[0m\u001b[0;34m)\u001b[0m\u001b[0;34m,\u001b[0m \u001b[0mmean_values\u001b[0m\u001b[0;34m-\u001b[0m\u001b[0mstds\u001b[0m\u001b[0;34m,\u001b[0m \u001b[0mmean_values\u001b[0m\u001b[0;34m+\u001b[0m\u001b[0mstds\u001b[0m\u001b[0;34m,\u001b[0m \u001b[0malpha\u001b[0m\u001b[0;34m=\u001b[0m\u001b[0;36m0.3\u001b[0m\u001b[0;34m)\u001b[0m\u001b[0;34m\u001b[0m\u001b[0;34m\u001b[0m\u001b[0m\n\u001b[0m\u001b[1;32m     16\u001b[0m     \u001b[0mplt\u001b[0m\u001b[0;34m.\u001b[0m\u001b[0mplot\u001b[0m\u001b[0;34m(\u001b[0m\u001b[0mmean_values\u001b[0m\u001b[0;34m)\u001b[0m\u001b[0;34m\u001b[0m\u001b[0;34m\u001b[0m\u001b[0m\n\u001b[1;32m     17\u001b[0m \u001b[0mplt\u001b[0m\u001b[0;34m.\u001b[0m\u001b[0mylabel\u001b[0m\u001b[0;34m(\u001b[0m\u001b[0;34m'$\\max_a\\ Q(s_0,a)$'\u001b[0m\u001b[0;34m)\u001b[0m\u001b[0;34m\u001b[0m\u001b[0;34m\u001b[0m\u001b[0m\n",
      "\u001b[0;32m~/miniconda3/envs/rl2020/lib/python3.7/site-packages/matplotlib/pyplot.py\u001b[0m in \u001b[0;36mfill_between\u001b[0;34m(x, y1, y2, where, interpolate, step, data, **kwargs)\u001b[0m\n\u001b[1;32m   2583\u001b[0m     return gca().fill_between(\n\u001b[1;32m   2584\u001b[0m         \u001b[0mx\u001b[0m\u001b[0;34m,\u001b[0m \u001b[0my1\u001b[0m\u001b[0;34m,\u001b[0m \u001b[0my2\u001b[0m\u001b[0;34m=\u001b[0m\u001b[0my2\u001b[0m\u001b[0;34m,\u001b[0m \u001b[0mwhere\u001b[0m\u001b[0;34m=\u001b[0m\u001b[0mwhere\u001b[0m\u001b[0;34m,\u001b[0m \u001b[0minterpolate\u001b[0m\u001b[0;34m=\u001b[0m\u001b[0minterpolate\u001b[0m\u001b[0;34m,\u001b[0m \u001b[0mstep\u001b[0m\u001b[0;34m=\u001b[0m\u001b[0mstep\u001b[0m\u001b[0;34m,\u001b[0m\u001b[0;34m\u001b[0m\u001b[0;34m\u001b[0m\u001b[0m\n\u001b[0;32m-> 2585\u001b[0;31m         **({\"data\": data} if data is not None else {}), **kwargs)\n\u001b[0m\u001b[1;32m   2586\u001b[0m \u001b[0;34m\u001b[0m\u001b[0m\n\u001b[1;32m   2587\u001b[0m \u001b[0;34m\u001b[0m\u001b[0m\n",
      "\u001b[0;32m~/miniconda3/envs/rl2020/lib/python3.7/site-packages/matplotlib/__init__.py\u001b[0m in \u001b[0;36minner\u001b[0;34m(ax, data, *args, **kwargs)\u001b[0m\n\u001b[1;32m   1587\u001b[0m     \u001b[0;32mdef\u001b[0m \u001b[0minner\u001b[0m\u001b[0;34m(\u001b[0m\u001b[0max\u001b[0m\u001b[0;34m,\u001b[0m \u001b[0;34m*\u001b[0m\u001b[0margs\u001b[0m\u001b[0;34m,\u001b[0m \u001b[0mdata\u001b[0m\u001b[0;34m=\u001b[0m\u001b[0;32mNone\u001b[0m\u001b[0;34m,\u001b[0m \u001b[0;34m**\u001b[0m\u001b[0mkwargs\u001b[0m\u001b[0;34m)\u001b[0m\u001b[0;34m:\u001b[0m\u001b[0;34m\u001b[0m\u001b[0;34m\u001b[0m\u001b[0m\n\u001b[1;32m   1588\u001b[0m         \u001b[0;32mif\u001b[0m \u001b[0mdata\u001b[0m \u001b[0;32mis\u001b[0m \u001b[0;32mNone\u001b[0m\u001b[0;34m:\u001b[0m\u001b[0;34m\u001b[0m\u001b[0;34m\u001b[0m\u001b[0m\n\u001b[0;32m-> 1589\u001b[0;31m             \u001b[0;32mreturn\u001b[0m \u001b[0mfunc\u001b[0m\u001b[0;34m(\u001b[0m\u001b[0max\u001b[0m\u001b[0;34m,\u001b[0m \u001b[0;34m*\u001b[0m\u001b[0mmap\u001b[0m\u001b[0;34m(\u001b[0m\u001b[0msanitize_sequence\u001b[0m\u001b[0;34m,\u001b[0m \u001b[0margs\u001b[0m\u001b[0;34m)\u001b[0m\u001b[0;34m,\u001b[0m \u001b[0;34m**\u001b[0m\u001b[0mkwargs\u001b[0m\u001b[0;34m)\u001b[0m\u001b[0;34m\u001b[0m\u001b[0;34m\u001b[0m\u001b[0m\n\u001b[0m\u001b[1;32m   1590\u001b[0m \u001b[0;34m\u001b[0m\u001b[0m\n\u001b[1;32m   1591\u001b[0m         \u001b[0mbound\u001b[0m \u001b[0;34m=\u001b[0m \u001b[0mnew_sig\u001b[0m\u001b[0;34m.\u001b[0m\u001b[0mbind\u001b[0m\u001b[0;34m(\u001b[0m\u001b[0max\u001b[0m\u001b[0;34m,\u001b[0m \u001b[0;34m*\u001b[0m\u001b[0margs\u001b[0m\u001b[0;34m,\u001b[0m \u001b[0;34m**\u001b[0m\u001b[0mkwargs\u001b[0m\u001b[0;34m)\u001b[0m\u001b[0;34m\u001b[0m\u001b[0;34m\u001b[0m\u001b[0m\n",
      "\u001b[0;32m~/miniconda3/envs/rl2020/lib/python3.7/site-packages/matplotlib/axes/_axes.py\u001b[0m in \u001b[0;36mfill_between\u001b[0;34m(self, x, y1, y2, where, interpolate, step, **kwargs)\u001b[0m\n\u001b[1;32m   5226\u001b[0m             \u001b[0mwhere\u001b[0m \u001b[0;34m=\u001b[0m \u001b[0;32mTrue\u001b[0m\u001b[0;34m\u001b[0m\u001b[0;34m\u001b[0m\u001b[0m\n\u001b[1;32m   5227\u001b[0m         where = where & ~functools.reduce(np.logical_or,\n\u001b[0;32m-> 5228\u001b[0;31m                                           map(np.ma.getmask, [x, y1, y2]))\n\u001b[0m\u001b[1;32m   5229\u001b[0m \u001b[0;34m\u001b[0m\u001b[0m\n\u001b[1;32m   5230\u001b[0m         \u001b[0mx\u001b[0m\u001b[0;34m,\u001b[0m \u001b[0my1\u001b[0m\u001b[0;34m,\u001b[0m \u001b[0my2\u001b[0m \u001b[0;34m=\u001b[0m \u001b[0mnp\u001b[0m\u001b[0;34m.\u001b[0m\u001b[0mbroadcast_arrays\u001b[0m\u001b[0;34m(\u001b[0m\u001b[0mnp\u001b[0m\u001b[0;34m.\u001b[0m\u001b[0matleast_1d\u001b[0m\u001b[0;34m(\u001b[0m\u001b[0mx\u001b[0m\u001b[0;34m)\u001b[0m\u001b[0;34m,\u001b[0m \u001b[0my1\u001b[0m\u001b[0;34m,\u001b[0m \u001b[0my2\u001b[0m\u001b[0;34m)\u001b[0m\u001b[0;34m\u001b[0m\u001b[0;34m\u001b[0m\u001b[0m\n",
      "\u001b[0;31mValueError\u001b[0m: operands could not be broadcast together with shapes (101,) (962,) "
     ]
    },
    {
     "data": {
      "image/png": "[encoded data removed]",
      "text/plain": [
       "<Figure size 432x288 with 1 Axes>"
      ]
     },
     "metadata": {
      "needs_background": "light"
     },
     "output_type": "display_data"
    }
   ],
   "source": [
    "# Average over the cumulative results\n",
    "for size in test_memory_sizes:\n",
    "    cum_state_values[size] = np.array(cum_state_values[size])\n",
    "    cum_episode_durations[size]  = np.array(cum_episode_durations[size])\n",
    "    \n",
    "print(cum_state_values.keys())\n",
    "print(cum_state_values[64])\n",
    "print(cum_state_values[100])\n",
    "print(cum_state_values[1000])\n",
    "\n",
    "# Plot initial state value over time\n",
    "for size in test_memory_sizes:\n",
    "    stds = np.std(cum_state_values[size], axis=0)\n",
    "    mean_values = np.mean(cum_state_values[size], axis=0)\n",
    "    plt.fill_between(np.linspace(1, (num_episodes//100)+1, num=(num_episodes//100)+1), mean_values-stds, mean_values+stds, alpha=0.3)\n",
    "    plt.plot(mean_values)\n",
    "plt.ylabel('$\\max_a\\ Q(s_0,a)$')\n",
    "plt.xlabel('Episode')\n",
    "figure_memory_sizes = [\"Off\", 100, 500, 1000, 10000]\n",
    "plt.legend([f'Memory = {size}' for size in figure_memory_sizes], loc=2)\n",
    "ticks = [0, 20, 40, 60, 80, 100]\n",
    "plt.xticks(ticks, [t*100 for t in ticks])\n",
    "plt.show()\n",
    "\n",
    "# Plot episode duration over time\n",
    "for size in test_memory_sizes:\n",
    "    smooth_stds = smooth(np.std(cum_episode_durations[size], axis=0), 100)\n",
    "    smooth_mean_values = smooth(np.mean(cum_episode_durations[size], axis=0), 100)\n",
    "    plt.fill_between(np.linspace(1, len(smooth_stds), num=len(smooth_stds)), smooth_mean_values-smooth_stds, smooth_mean_values+smooth_stds, alpha=0.3)\n",
    "    plt.plot(smooth_mean_values)\n",
    "plt.ylabel('Episode duration')\n",
    "plt.xlabel('Episode')\n",
    "plt.legend([f'Memory = {size}' for size in figure_memory_sizes], loc=2)\n",
    "plt.show()"
   ]
  },
  {
   "cell_type": "code",
   "execution_count": null,
   "metadata": {},
   "outputs": [],
   "source": []
  },
  {
   "cell_type": "code",
   "execution_count": null,
   "metadata": {},
   "outputs": [],
   "source": []
  }
 ],
 "metadata": {
  "kernelspec": {
   "display_name": "Python 3",
   "language": "python",
   "name": "python3"
  },
  "language_info": {
   "codemirror_mode": {
    "name": "ipython",
    "version": 3
   },
   "file_extension": ".py",
   "mimetype": "text/x-python",
   "name": "python",
   "nbconvert_exporter": "python",
   "pygments_lexer": "ipython3",
   "version": "3.7.3"
  }
 },
 "nbformat": 4,
 "nbformat_minor": 4
}
