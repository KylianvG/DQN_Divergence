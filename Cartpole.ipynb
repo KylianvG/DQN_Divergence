{
 "cells": [
  {
   "cell_type": "markdown",
   "metadata": {},
   "source": [
    "# Imports"
   ]
  },
  {
   "cell_type": "code",
   "execution_count": 1,
   "metadata": {},
   "outputs": [],
   "source": [
    "from dqn.dqn import QNetwork, ReplayMemory\n",
    "from policies.eps_greedy import EpsilonGreedyPolicy\n",
    "from train_eval.train import train\n",
    "\n",
    "import random\n",
    "import numpy as np\n",
    "import torch\n",
    "from torch import optim\n",
    "import gym\n",
    "import matplotlib.pyplot as plt"
   ]
  },
  {
   "cell_type": "markdown",
   "metadata": {},
   "source": [
    "# Load the environment"
   ]
  },
  {
   "cell_type": "code",
   "execution_count": 2,
   "metadata": {},
   "outputs": [
    {
     "name": "stderr",
     "output_type": "stream",
     "text": [
      "C:\\Users\\kylia\\Anaconda3\\envs\\rl2020\\lib\\site-packages\\gym\\envs\\registration.py:14: PkgResourcesDeprecationWarning: Parameters to load are deprecated.  Call .resolve and .require separately.\n",
      "  result = entry_point.load(False)\n"
     ]
    }
   ],
   "source": [
    "env = gym.envs.make(\"CartPole-v1\")"
   ]
  },
  {
   "cell_type": "markdown",
   "metadata": {},
   "source": [
    "# Create DQN and policy"
   ]
  },
  {
   "cell_type": "code",
   "execution_count": 3,
   "metadata": {},
   "outputs": [],
   "source": [
    "seed = 1  # This is not randomly chosen\n",
    "num_hidden = 128\n",
    "eps = 0.05\n",
    "\n",
    "# We will seed the algorithm (before initializing QNetwork!) for reproducibility\n",
    "random.seed(seed)\n",
    "torch.manual_seed(seed)\n",
    "env.seed(seed)\n",
    "\n",
    "Q_net = QNetwork(num_hidden=num_hidden)\n",
    "policy = EpsilonGreedyPolicy(Q_net, eps)"
   ]
  },
  {
   "cell_type": "markdown",
   "metadata": {},
   "source": [
    "# Function to run episodes and call training function (with replay memory)"
   ]
  },
  {
   "cell_type": "code",
   "execution_count": 4,
   "metadata": {},
   "outputs": [],
   "source": [
    "def run_episodes(train, Q, policy, memory, env, num_episodes, batch_size, discount_factor, optimizer):\n",
    "    global_steps = 0  # Count the steps (do not reset at episode start, to compute epsilon)\n",
    "    episode_durations = []\n",
    "    state_values = []\n",
    "    init_state = env.reset()\n",
    "    for i in range(num_episodes):\n",
    "        state = env.reset()\n",
    "\n",
    "        steps = 0\n",
    "        while True:\n",
    "            # Set epsilon according to number of steps\n",
    "            policy.set_epsilon(global_steps)\n",
    "            # Sample an action, next state, reward and done\n",
    "            a = policy.sample_action(state)\n",
    "            s_next, r, done, _ = env.step(a)\n",
    "            # Add the transition to the memory buffer\n",
    "            memory.push((state, a, r, s_next, done))\n",
    "            # Perform training on the buffer\n",
    "            loss = train(Q, memory, optimizer, batch_size, discount_factor)\n",
    "            # Increase step counts and set current state\n",
    "            steps += 1\n",
    "            global_steps += 1\n",
    "            state = s_next\n",
    "            \n",
    "            if global_steps % 100 == 0:\n",
    "                with torch.no_grad():\n",
    "                    Q.eval()\n",
    "                    Q_vals = Q(torch.Tensor([init_state]))\n",
    "                    maxx, _ = torch.max(Q_vals, dim=1)\n",
    "                    state_values.append(maxx)\n",
    "\n",
    "            if done:\n",
    "                if i % 10 == 0:\n",
    "                    print(\"{2} Episode {0} finished after {1} steps\"\n",
    "                          .format(i, steps, '\\033[92m' if steps >= 195 else '\\033[99m'))\n",
    "                episode_durations.append(steps)\n",
    "                break\n",
    "    return episode_durations, state_values"
   ]
  },
  {
   "cell_type": "markdown",
   "metadata": {},
   "source": [
    "# Perform training"
   ]
  },
  {
   "cell_type": "code",
   "execution_count": 5,
   "metadata": {},
   "outputs": [
    {
     "name": "stdout",
     "output_type": "stream",
     "text": [
      " Episode 0 finished after 23 steps\n",
      " Episode 10 finished after 14 steps\n",
      " Episode 20 finished after 10 steps\n",
      " Episode 30 finished after 13 steps\n",
      " Episode 40 finished after 10 steps\n",
      " Episode 50 finished after 9 steps\n",
      " Episode 60 finished after 10 steps\n",
      " Episode 70 finished after 10 steps\n",
      " Episode 80 finished after 9 steps\n",
      " Episode 90 finished after 12 steps\n",
      " Episode 100 finished after 10 steps\n",
      " Episode 110 finished after 10 steps\n",
      " Episode 120 finished after 9 steps\n",
      " Episode 130 finished after 10 steps\n",
      " Episode 140 finished after 10 steps\n",
      " Episode 150 finished after 10 steps\n",
      " Episode 160 finished after 10 steps\n",
      " Episode 170 finished after 10 steps\n",
      " Episode 180 finished after 10 steps\n",
      " Episode 190 finished after 10 steps\n",
      " Episode 200 finished after 10 steps\n",
      " Episode 210 finished after 11 steps\n",
      " Episode 220 finished after 10 steps\n",
      " Episode 230 finished after 10 steps\n",
      " Episode 240 finished after 9 steps\n",
      " Episode 250 finished after 9 steps\n",
      " Episode 260 finished after 10 steps\n",
      " Episode 270 finished after 10 steps\n",
      " Episode 280 finished after 9 steps\n",
      " Episode 290 finished after 10 steps\n",
      " Episode 300 finished after 8 steps\n",
      " Episode 310 finished after 9 steps\n",
      " Episode 320 finished after 9 steps\n",
      " Episode 330 finished after 11 steps\n",
      " Episode 340 finished after 10 steps\n",
      " Episode 350 finished after 16 steps\n",
      " Episode 360 finished after 12 steps\n",
      " Episode 370 finished after 12 steps\n",
      " Episode 380 finished after 13 steps\n",
      " Episode 390 finished after 15 steps\n",
      " Episode 400 finished after 14 steps\n",
      " Episode 410 finished after 17 steps\n",
      " Episode 420 finished after 15 steps\n",
      " Episode 430 finished after 16 steps\n",
      " Episode 440 finished after 19 steps\n",
      " Episode 450 finished after 32 steps\n",
      " Episode 460 finished after 35 steps\n",
      " Episode 470 finished after 10 steps\n",
      " Episode 480 finished after 8 steps\n",
      " Episode 490 finished after 8 steps\n",
      " Episode 500 finished after 9 steps\n",
      " Episode 510 finished after 10 steps\n",
      " Episode 520 finished after 8 steps\n",
      " Episode 530 finished after 9 steps\n",
      " Episode 540 finished after 9 steps\n",
      " Episode 550 finished after 12 steps\n",
      " Episode 560 finished after 10 steps\n",
      " Episode 570 finished after 10 steps\n",
      " Episode 580 finished after 9 steps\n",
      " Episode 590 finished after 10 steps\n",
      " Episode 600 finished after 10 steps\n",
      " Episode 610 finished after 9 steps\n",
      " Episode 620 finished after 10 steps\n",
      " Episode 630 finished after 10 steps\n",
      " Episode 640 finished after 10 steps\n",
      " Episode 650 finished after 10 steps\n",
      " Episode 660 finished after 8 steps\n",
      " Episode 670 finished after 15 steps\n",
      " Episode 680 finished after 10 steps\n",
      " Episode 690 finished after 10 steps\n",
      " Episode 700 finished after 9 steps\n",
      " Episode 710 finished after 10 steps\n",
      " Episode 720 finished after 10 steps\n",
      " Episode 730 finished after 10 steps\n",
      " Episode 740 finished after 9 steps\n",
      " Episode 750 finished after 9 steps\n",
      " Episode 760 finished after 10 steps\n",
      " Episode 770 finished after 11 steps\n",
      " Episode 780 finished after 14 steps\n",
      " Episode 790 finished after 13 steps\n",
      " Episode 800 finished after 14 steps\n",
      " Episode 810 finished after 15 steps\n",
      " Episode 820 finished after 28 steps\n",
      " Episode 830 finished after 29 steps\n",
      " Episode 840 finished after 38 steps\n",
      " Episode 850 finished after 36 steps\n",
      " Episode 860 finished after 75 steps\n",
      " Episode 870 finished after 26 steps\n",
      " Episode 880 finished after 36 steps\n",
      " Episode 890 finished after 26 steps\n",
      " Episode 900 finished after 23 steps\n",
      " Episode 910 finished after 29 steps\n",
      " Episode 920 finished after 23 steps\n",
      " Episode 930 finished after 34 steps\n",
      " Episode 940 finished after 39 steps\n",
      " Episode 950 finished after 33 steps\n",
      " Episode 960 finished after 45 steps\n",
      " Episode 970 finished after 31 steps\n",
      " Episode 980 finished after 20 steps\n",
      " Episode 990 finished after 37 steps\n"
     ]
    }
   ],
   "source": [
    "num_episodes = 1000\n",
    "batch_size = 10\n",
    "discount_factor = 0.9\n",
    "learn_rate = 1e-3\n",
    "# To switch off Replay Memory mechanism, simply set size to batch size\n",
    "memory = ReplayMemory(10000)\n",
    "\n",
    "optimizer = optim.Adam(Q_net.parameters(), learn_rate)\n",
    "episode_durations, state_values = run_episodes(train, Q_net, policy, memory, env, num_episodes, batch_size, discount_factor, optimizer)"
   ]
  },
  {
   "cell_type": "code",
   "execution_count": 6,
   "metadata": {},
   "outputs": [
    {
     "data": {
      "image/png": "[encoded data removed]",
      "text/plain": [
       "<Figure size 432x288 with 1 Axes>"
      ]
     },
     "metadata": {
      "needs_background": "light"
     },
     "output_type": "display_data"
    },
    {
     "data": {
      "image/png": "[encoded data removed]",
      "text/plain": [
       "<Figure size 432x288 with 1 Axes>"
      ]
     },
     "metadata": {
      "needs_background": "light"
     },
     "output_type": "display_data"
    }
   ],
   "source": [
    "def smooth(x, N):\n",
    "    cumsum = np.cumsum(np.insert(x, 0, 0)) \n",
    "    return (cumsum[N:] - cumsum[:-N]) / float(N)\n",
    "\n",
    "plt.plot(smooth(np.array(state_values), 10))\n",
    "plt.ylabel('$\\max_a\\ Q(s,a)$')\n",
    "plt.show()\n",
    "\n",
    "plt.plot(smooth(np.array(episode_durations), 10))\n",
    "plt.ylabel('Episode duration')\n",
    "plt.show()"
   ]
  },
  {
   "cell_type": "markdown",
   "metadata": {},
   "source": [
    "# Function to run episodes and call training function (without replay memory)"
   ]
  },
  {
   "cell_type": "code",
   "execution_count": 7,
   "metadata": {},
   "outputs": [],
   "source": [
    "def run_episodes(train, Q, policy, memory, env, num_episodes, batch_size, discount_factor, optimizer):\n",
    "    global_steps = 0  # Count the steps (do not reset at episode start, to compute epsilon)\n",
    "    episode_durations = []  #\n",
    "    state_values = []\n",
    "    init_state = env.reset()\n",
    "    for i in range(num_episodes):\n",
    "        state = env.reset()\n",
    "\n",
    "        steps = 0\n",
    "        while True:\n",
    "            # Set epsilon according to number of steps\n",
    "            policy.set_epsilon(global_steps)\n",
    "            # Increase step counts\n",
    "            steps += 1\n",
    "            global_steps += 1\n",
    "            # Sample an action, next state, reward and done\n",
    "            a = policy.sample_action(state)\n",
    "            s_next, r, done, _ = env.step(a)\n",
    "            # Add the transition to the memory buffer\n",
    "            memory.push((state, a, r, s_next, done))\n",
    "            # Perform training on the buffer\n",
    "            if global_steps % batch_size == 0:\n",
    "                loss = train(Q, memory, optimizer, batch_size, discount_factor)\n",
    "            state = s_next\n",
    "            \n",
    "            if global_steps % 100 == 0:\n",
    "                with torch.no_grad():\n",
    "                    Q.eval()\n",
    "                    Q_vals = Q(torch.Tensor([init_state]))\n",
    "                    maxx, _ = torch.max(Q_vals, dim=1)\n",
    "                    state_values.append(maxx)\n",
    "\n",
    "            if done:\n",
    "                if i % 100 == 0:\n",
    "                    print(\"{2} Episode {0} finished after {1} steps\"\n",
    "                          .format(i, steps, '\\033[92m' if steps >= 195 else '\\033[99m'))\n",
    "                episode_durations.append(steps)\n",
    "                break\n",
    "    return episode_durations, state_values"
   ]
  },
  {
   "cell_type": "code",
   "execution_count": 8,
   "metadata": {
    "scrolled": true
   },
   "outputs": [
    {
     "name": "stdout",
     "output_type": "stream",
     "text": [
      " Episode 0 finished after 25 steps\n",
      " Episode 100 finished after 10 steps\n",
      " Episode 200 finished after 44 steps\n",
      " Episode 300 finished after 69 steps\n",
      " Episode 400 finished after 185 steps\n",
      " Episode 500 finished after 133 steps\n",
      " Episode 600 finished after 414 steps\n",
      " Episode 700 finished after 500 steps\n",
      " Episode 800 finished after 27 steps\n",
      " Episode 900 finished after 15 steps\n",
      " Episode 1000 finished after 19 steps\n",
      " Episode 1100 finished after 236 steps\n",
      " Episode 1200 finished after 179 steps\n",
      " Episode 1300 finished after 13 steps\n",
      " Episode 1400 finished after 122 steps\n",
      " Episode 1500 finished after 500 steps\n",
      " Episode 1600 finished after 16 steps\n",
      " Episode 1700 finished after 108 steps\n",
      " Episode 1800 finished after 22 steps\n",
      " Episode 1900 finished after 231 steps\n",
      " Episode 2000 finished after 136 steps\n",
      " Episode 2100 finished after 147 steps\n",
      " Episode 2200 finished after 16 steps\n",
      " Episode 2300 finished after 64 steps\n",
      " Episode 2400 finished after 62 steps\n",
      " Episode 2500 finished after 500 steps\n",
      " Episode 2600 finished after 102 steps\n",
      " Episode 2700 finished after 18 steps\n",
      " Episode 2800 finished after 97 steps\n",
      " Episode 2900 finished after 91 steps\n",
      " Episode 3000 finished after 92 steps\n",
      " Episode 3100 finished after 100 steps\n",
      " Episode 3200 finished after 500 steps\n",
      " Episode 3300 finished after 14 steps\n",
      " Episode 3400 finished after 13 steps\n",
      " Episode 3500 finished after 143 steps\n",
      " Episode 3600 finished after 176 steps\n",
      " Episode 3700 finished after 365 steps\n",
      " Episode 3800 finished after 98 steps\n",
      " Episode 3900 finished after 167 steps\n",
      " Episode 4000 finished after 327 steps\n",
      " Episode 4100 finished after 199 steps\n",
      " Episode 4200 finished after 99 steps\n",
      " Episode 4300 finished after 115 steps\n",
      " Episode 4400 finished after 93 steps\n",
      " Episode 4500 finished after 500 steps\n",
      " Episode 4600 finished after 367 steps\n",
      " Episode 4700 finished after 116 steps\n",
      " Episode 4800 finished after 289 steps\n",
      " Episode 4900 finished after 118 steps\n",
      " Episode 5000 finished after 11 steps\n",
      " Episode 5100 finished after 168 steps\n",
      " Episode 5200 finished after 107 steps\n",
      " Episode 5300 finished after 108 steps\n",
      " Episode 5400 finished after 374 steps\n",
      " Episode 5500 finished after 107 steps\n",
      " Episode 5600 finished after 103 steps\n",
      " Episode 5700 finished after 13 steps\n",
      " Episode 5800 finished after 83 steps\n",
      " Episode 5900 finished after 26 steps\n",
      " Episode 6000 finished after 101 steps\n",
      " Episode 6100 finished after 136 steps\n",
      " Episode 6200 finished after 17 steps\n",
      " Episode 6300 finished after 13 steps\n",
      " Episode 6400 finished after 100 steps\n",
      " Episode 6500 finished after 115 steps\n",
      " Episode 6600 finished after 87 steps\n",
      " Episode 6700 finished after 143 steps\n",
      " Episode 6800 finished after 119 steps\n",
      " Episode 6900 finished after 98 steps\n",
      " Episode 7000 finished after 152 steps\n",
      " Episode 7100 finished after 74 steps\n",
      " Episode 7200 finished after 133 steps\n",
      " Episode 7300 finished after 92 steps\n",
      " Episode 7400 finished after 324 steps\n",
      " Episode 7500 finished after 95 steps\n",
      " Episode 7600 finished after 109 steps\n",
      " Episode 7700 finished after 105 steps\n",
      " Episode 7800 finished after 97 steps\n",
      " Episode 7900 finished after 161 steps\n",
      " Episode 8000 finished after 84 steps\n",
      " Episode 8100 finished after 116 steps\n",
      " Episode 8200 finished after 186 steps\n",
      " Episode 8300 finished after 120 steps\n",
      " Episode 8400 finished after 94 steps\n",
      " Episode 8500 finished after 239 steps\n",
      " Episode 8600 finished after 18 steps\n",
      " Episode 8700 finished after 99 steps\n",
      " Episode 8800 finished after 92 steps\n",
      " Episode 8900 finished after 103 steps\n",
      " Episode 9000 finished after 109 steps\n",
      " Episode 9100 finished after 14 steps\n",
      " Episode 9200 finished after 218 steps\n",
      " Episode 9300 finished after 15 steps\n",
      " Episode 9400 finished after 116 steps\n",
      " Episode 9500 finished after 100 steps\n",
      " Episode 9600 finished after 11 steps\n",
      " Episode 9700 finished after 110 steps\n",
      " Episode 9800 finished after 27 steps\n",
      " Episode 9900 finished after 115 steps\n"
     ]
    }
   ],
   "source": [
    "random.seed(seed)\n",
    "torch.manual_seed(seed)\n",
    "env.seed(seed)\n",
    "\n",
    "Q_net = QNetwork(num_hidden=num_hidden)\n",
    "policy = EpsilonGreedyPolicy(Q_net, eps)\n",
    "\n",
    "num_episodes = 10000\n",
    "batch_size = 1\n",
    "discount_factor = 0.9\n",
    "learn_rate = 1e-3\n",
    "memory = ReplayMemory(batch_size)\n",
    "\n",
    "optimizer = optim.Adam(Q_net.parameters(), learn_rate)\n",
    "episode_durations, state_values = run_episodes(train, Q_net, policy, memory, env, num_episodes, batch_size, discount_factor, optimizer)"
   ]
  },
  {
   "cell_type": "code",
   "execution_count": 9,
   "metadata": {},
   "outputs": [
    {
     "data": {
      "image/png": "[encoded data removed]",
      "text/plain": [
       "<Figure size 432x288 with 1 Axes>"
      ]
     },
     "metadata": {
      "needs_background": "light"
     },
     "output_type": "display_data"
    },
    {
     "data": {
      "image/png": "[encoded data removed]",
      "text/plain": [
       "<Figure size 432x288 with 1 Axes>"
      ]
     },
     "metadata": {
      "needs_background": "light"
     },
     "output_type": "display_data"
    }
   ],
   "source": [
    "plt.plot(smooth(np.array(state_values), 100))\n",
    "plt.ylabel('$\\max_a\\ Q(s,a)$')\n",
    "plt.show()\n",
    "\n",
    "plt.plot(smooth(np.array(episode_durations), 100))\n",
    "plt.ylabel('Episode duration')\n",
    "plt.show()"
   ]
  },
  {
   "cell_type": "code",
   "execution_count": null,
   "metadata": {},
   "outputs": [],
   "source": []
  }
 ],
 "metadata": {
  "kernelspec": {
   "display_name": "Python 3",
   "language": "python",
   "name": "python3"
  },
  "language_info": {
   "codemirror_mode": {
    "name": "ipython",
    "version": 3
   },
   "file_extension": ".py",
   "mimetype": "text/x-python",
   "name": "python",
   "nbconvert_exporter": "python",
   "pygments_lexer": "ipython3",
   "version": "3.7.3"
  }
 },
 "nbformat": 4,
 "nbformat_minor": 4
}
