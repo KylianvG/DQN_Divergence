{
 "cells": [
  {
   "cell_type": "markdown",
   "metadata": {},
   "source": [
    "# Imports"
   ]
  },
  {
   "cell_type": "code",
   "execution_count": 1,
   "metadata": {},
   "outputs": [],
   "source": [
    "from dqn.dqn import QNetwork, ReplayMemory\n",
    "from policies.eps_greedy import EpsilonGreedyPolicy\n",
    "from train_eval.train import train\n",
    "from envs.bairds import BairdsCounterExample\n",
    "\n",
    "import random\n",
    "import numpy as np\n",
    "import torch\n",
    "from torch import optim\n",
    "import gym\n",
    "import matplotlib.pyplot as plt"
   ]
  },
  {
   "cell_type": "markdown",
   "metadata": {},
   "source": [
    "# Load the environment"
   ]
  },
  {
   "cell_type": "code",
   "execution_count": 2,
   "metadata": {},
   "outputs": [],
   "source": [
    "env = BairdsCounterExample()"
   ]
  },
  {
   "cell_type": "markdown",
   "metadata": {},
   "source": [
    "# Create DQN and policy"
   ]
  },
  {
   "cell_type": "code",
   "execution_count": 3,
   "metadata": {},
   "outputs": [],
   "source": [
    "seed = 42  # This is not randomly chosen\n",
    "num_hidden = 128\n",
    "eps = 0.05\n",
    "\n",
    "# We will seed the algorithm (before initializing QNetwork!) for reproducibility\n",
    "random.seed(seed)\n",
    "torch.manual_seed(seed)\n",
    "env.seed(seed)\n",
    "\n",
    "Q_net = QNetwork(num_hidden=num_hidden, num_in=7, num_out=2)\n",
    "policy = EpsilonGreedyPolicy(Q_net, 0.05, its=1000)"
   ]
  },
  {
   "cell_type": "markdown",
   "metadata": {},
   "source": [
    "# Function to run episodes and call training function (with replay memory)"
   ]
  },
  {
   "cell_type": "code",
   "execution_count": 4,
   "metadata": {},
   "outputs": [],
   "source": [
    "def run_bairds(train, Q, policy, memory, env, num_transitions, batch_size, discount_factor, optimizer):\n",
    "    global_steps = 0  # Count the steps (do not reset at episode start, to compute epsilon)\n",
    "    state_values = []\n",
    "    state = env.reset()\n",
    "    \n",
    "    for i in range(num_transitions):\n",
    "        # Set epsilon according to number of steps\n",
    "        policy.set_epsilon(global_steps)\n",
    "        # Sample an action, next state, reward and done\n",
    "        a = policy.sample_action(state)\n",
    "        s_next, r, done, _ = env.step(a)\n",
    "        # Add the transition to the memory buffer\n",
    "        memory.push((state, a, r, s_next, done))\n",
    "        # Perform training on the buffer\n",
    "        loss = train(Q, memory, optimizer, batch_size, discount_factor)\n",
    "        # Increase step count and set current state\n",
    "        global_steps += 1\n",
    "        state = s_next\n",
    "        \n",
    "        # Every 10 actions, calculate all state-action values and store max value for each state\n",
    "        if i % 10 == 0:\n",
    "            all_states = torch.eye(7)\n",
    "            with torch.no_grad():\n",
    "                Q.eval()\n",
    "                Q_vals = Q(all_states)\n",
    "                maxx, _ = torch.max(Q_vals, dim=1)\n",
    "                state_values.append(maxx)\n",
    "    return torch.stack(state_values, 1)"
   ]
  },
  {
   "cell_type": "markdown",
   "metadata": {},
   "source": [
    "# Perform training"
   ]
  },
  {
   "cell_type": "code",
   "execution_count": 5,
   "metadata": {},
   "outputs": [],
   "source": [
    "num_transitions = 10000\n",
    "batch_size = 64\n",
    "discount_factor = 0.99\n",
    "learn_rate = 1e-3\n",
    "# To switch off Replay Memory mechanism, simply set size to batch size\n",
    "memory = ReplayMemory(batch_size)\n",
    "\n",
    "optimizer = optim.Adam(Q_net.parameters(), learn_rate)\n",
    "state_values = run_bairds(train, Q_net, policy, memory, env, num_transitions, batch_size, discount_factor, optimizer)"
   ]
  },
  {
   "cell_type": "code",
   "execution_count": 6,
   "metadata": {},
   "outputs": [
    {
     "data": {
      "image/png": "[encoded data removed]",
      "text/plain": [
       "<Figure size 432x288 with 1 Axes>"
      ]
     },
     "metadata": {
      "needs_background": "light"
     },
     "output_type": "display_data"
    }
   ],
   "source": [
    "for i in range(7):\n",
    "    plt.plot(state_values[i])\n",
    "plt.legend([f'$s_{i}$' for i in range(1,8)])\n",
    "plt.xticks([0, 200, 400, 600, 800, 1000], [0, 2000, 4000, 6000, 8000, 10000])\n",
    "plt.ylabel('$\\max_a\\ Q(s,a)$')\n",
    "plt.xlabel('Episode')\n",
    "plt.show()"
   ]
  },
  {
   "cell_type": "code",
   "execution_count": null,
   "metadata": {},
   "outputs": [],
   "source": []
  }
 ],
 "metadata": {
  "kernelspec": {
   "display_name": "Python 3",
   "language": "python",
   "name": "python3"
  },
  "language_info": {
   "codemirror_mode": {
    "name": "ipython",
    "version": 3
   },
   "file_extension": ".py",
   "mimetype": "text/x-python",
   "name": "python",
   "nbconvert_exporter": "python",
   "pygments_lexer": "ipython3",
   "version": "3.7.3"
  }
 },
 "nbformat": 4,
 "nbformat_minor": 4
}
