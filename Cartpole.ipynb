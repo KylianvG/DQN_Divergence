{
 "cells": [
  {
   "cell_type": "markdown",
   "metadata": {},
   "source": [
    "# Imports"
   ]
  },
  {
   "cell_type": "code",
   "execution_count": 1,
   "metadata": {},
   "outputs": [],
   "source": [
    "from dqn.dqn import QNetwork, ReplayMemory\n",
    "from policies.eps_greedy import EpsilonGreedyPolicy\n",
    "from train_eval.train import train\n",
    "\n",
    "import random\n",
    "import numpy as np\n",
    "import torch\n",
    "from torch import optim\n",
    "import gym\n",
    "import matplotlib.pyplot as plt"
   ]
  },
  {
   "cell_type": "markdown",
   "metadata": {},
   "source": [
    "# Load the environment"
   ]
  },
  {
   "cell_type": "code",
   "execution_count": 2,
   "metadata": {},
   "outputs": [
    {
     "name": "stderr",
     "output_type": "stream",
     "text": [
      "C:\\Users\\kylia\\Anaconda3\\envs\\rl2020\\lib\\site-packages\\gym\\envs\\registration.py:14: PkgResourcesDeprecationWarning: Parameters to load are deprecated.  Call .resolve and .require separately.\n",
      "  result = entry_point.load(False)\n"
     ]
    }
   ],
   "source": [
    "env = gym.envs.make(\"CartPole-v1\")"
   ]
  },
  {
   "cell_type": "markdown",
   "metadata": {},
   "source": [
    "# Create DQN and policy"
   ]
  },
  {
   "cell_type": "code",
   "execution_count": 3,
   "metadata": {},
   "outputs": [],
   "source": [
    "seed = 42  # This is not randomly chosen\n",
    "num_hidden = 128\n",
    "eps = 0.05\n",
    "\n",
    "# We will seed the algorithm (before initializing QNetwork!) for reproducibility\n",
    "random.seed(seed)\n",
    "torch.manual_seed(seed)\n",
    "env.seed(seed)\n",
    "\n",
    "Q_net = QNetwork(num_hidden=num_hidden)\n",
    "policy = EpsilonGreedyPolicy(Q_net, eps)"
   ]
  },
  {
   "cell_type": "markdown",
   "metadata": {},
   "source": [
    "# Function to run episodes and call training function (with replay memory)"
   ]
  },
  {
   "cell_type": "code",
   "execution_count": 4,
   "metadata": {},
   "outputs": [],
   "source": [
    "def run_episodes(train, Q, policy, memory, env, num_episodes, batch_size, discount_factor, optimizer):\n",
    "    global_steps = 0  # Count the steps (do not reset at episode start, to compute epsilon)\n",
    "    episode_durations = []\n",
    "    state_values = []\n",
    "    init_state = env.reset()\n",
    "    for i in range(num_episodes):\n",
    "        state = env.reset()\n",
    "\n",
    "        steps = 0\n",
    "        while True:\n",
    "            # Set epsilon according to number of steps\n",
    "            policy.set_epsilon(global_steps)\n",
    "            # Sample an action, next state, reward and done\n",
    "            a = policy.sample_action(state)\n",
    "            s_next, r, done, _ = env.step(a)\n",
    "            # Add the transition to the memory buffer\n",
    "            memory.push((state, a, r, s_next, done))\n",
    "            # Perform training on the buffer\n",
    "            loss = train(Q, memory, optimizer, batch_size, discount_factor)\n",
    "            # Increase step counts and set current state\n",
    "            steps += 1\n",
    "            global_steps += 1\n",
    "            state = s_next\n",
    "            \n",
    "            if global_steps % 100 == 0:\n",
    "                with torch.no_grad():\n",
    "                    Q.eval()\n",
    "                    Q_vals = Q(torch.Tensor([init_state]))\n",
    "                    maxx, _ = torch.max(Q_vals, dim=1)\n",
    "                    state_values.append(maxx)\n",
    "\n",
    "            if done:\n",
    "                if i % 10 == 0:\n",
    "                    print(\"{2} Episode {0} finished after {1} steps\"\n",
    "                          .format(i, steps, '\\033[92m' if steps >= 195 else '\\033[99m'))\n",
    "                episode_durations.append(steps)\n",
    "                break\n",
    "    return episode_durations, state_values"
   ]
  },
  {
   "cell_type": "markdown",
   "metadata": {},
   "source": [
    "# Perform training"
   ]
  },
  {
   "cell_type": "code",
   "execution_count": 5,
   "metadata": {},
   "outputs": [
    {
     "name": "stdout",
     "output_type": "stream",
     "text": [
      " Episode 0 finished after 11 steps\n",
      " Episode 10 finished after 20 steps\n",
      " Episode 20 finished after 10 steps\n",
      " Episode 30 finished after 17 steps\n",
      " Episode 40 finished after 42 steps\n",
      " Episode 50 finished after 113 steps\n",
      " Episode 60 finished after 500 steps\n",
      " Episode 70 finished after 354 steps\n",
      " Episode 80 finished after 500 steps\n",
      " Episode 90 finished after 405 steps\n",
      " Episode 100 finished after 372 steps\n",
      " Episode 110 finished after 238 steps\n",
      " Episode 120 finished after 36 steps\n",
      " Episode 130 finished after 118 steps\n",
      " Episode 140 finished after 260 steps\n",
      " Episode 150 finished after 207 steps\n",
      " Episode 160 finished after 323 steps\n",
      " Episode 170 finished after 122 steps\n",
      " Episode 180 finished after 500 steps\n",
      " Episode 190 finished after 290 steps\n"
     ]
    }
   ],
   "source": [
    "num_episodes = 200\n",
    "batch_size = 64\n",
    "discount_factor = 0.8\n",
    "learn_rate = 1e-3\n",
    "# To switch off Replay Memory mechanism, simply set size to batch size\n",
    "memory = ReplayMemory(10000)\n",
    "\n",
    "optimizer = optim.Adam(Q_net.parameters(), learn_rate)\n",
    "episode_durations, state_values = run_episodes(train, Q_net, policy, memory, env, num_episodes, batch_size, discount_factor, optimizer)"
   ]
  },
  {
   "cell_type": "code",
   "execution_count": 6,
   "metadata": {},
   "outputs": [
    {
     "data": {
      "image/png": "[encoded data removed]",
      "text/plain": [
       "<Figure size 432x288 with 1 Axes>"
      ]
     },
     "metadata": {
      "needs_background": "light"
     },
     "output_type": "display_data"
    }
   ],
   "source": [
    "def smooth(x, N):\n",
    "    cumsum = np.cumsum(np.insert(x, 0, 0)) \n",
    "    return (cumsum[N:] - cumsum[:-N]) / float(N)\n",
    "\n",
    "plt.plot(smooth(np.array(state_values), 10))\n",
    "plt.ylabel('$\\max_a\\ Q(s,a)$')\n",
    "plt.show()"
   ]
  },
  {
   "cell_type": "markdown",
   "metadata": {},
   "source": [
    "# Function to run episodes and call training function (without replay memory)"
   ]
  },
  {
   "cell_type": "code",
   "execution_count": 7,
   "metadata": {},
   "outputs": [],
   "source": [
    "def run_episodes(train, Q, policy, memory, env, num_episodes, batch_size, discount_factor, optimizer):\n",
    "    global_steps = 0  # Count the steps (do not reset at episode start, to compute epsilon)\n",
    "    episode_durations = []  #\n",
    "    state_values = []\n",
    "    init_state = env.reset()\n",
    "    for i in range(num_episodes):\n",
    "        state = env.reset()\n",
    "\n",
    "        steps = 0\n",
    "        while True:\n",
    "            # Set epsilon according to number of steps\n",
    "            policy.set_epsilon(global_steps)\n",
    "            # Increase step counts\n",
    "            steps += 1\n",
    "            global_steps += 1\n",
    "            # Sample an action, next state, reward and done\n",
    "            a = policy.sample_action(state)\n",
    "            s_next, r, done, _ = env.step(a)\n",
    "            # Add the transition to the memory buffer\n",
    "            memory.push((state, a, r, s_next, done))\n",
    "            # Perform training on the buffer\n",
    "            if global_steps % batch_size == 0:\n",
    "                loss = train(Q, memory, optimizer, batch_size, discount_factor)\n",
    "            state = s_next\n",
    "            \n",
    "            if global_steps % 100 == 0:\n",
    "                with torch.no_grad():\n",
    "                    Q.eval()\n",
    "                    Q_vals = Q(torch.Tensor([init_state]))\n",
    "                    maxx, _ = torch.max(Q_vals, dim=1)\n",
    "                    state_values.append(maxx)\n",
    "\n",
    "            if done:\n",
    "                if i % 100 == 0:\n",
    "                    print(\"{2} Episode {0} finished after {1} steps\"\n",
    "                          .format(i, steps, '\\033[92m' if steps >= 195 else '\\033[99m'))\n",
    "                episode_durations.append(steps)\n",
    "                break\n",
    "    return episode_durations, state_values"
   ]
  },
  {
   "cell_type": "code",
   "execution_count": 8,
   "metadata": {
    "scrolled": true
   },
   "outputs": [
    {
     "name": "stdout",
     "output_type": "stream",
     "text": [
      " Episode 0 finished after 11 steps\n",
      " Episode 100 finished after 10 steps\n",
      " Episode 200 finished after 10 steps\n",
      " Episode 300 finished after 9 steps\n",
      " Episode 400 finished after 9 steps\n",
      " Episode 500 finished after 9 steps\n",
      " Episode 600 finished after 9 steps\n",
      " Episode 700 finished after 10 steps\n",
      " Episode 800 finished after 10 steps\n",
      " Episode 900 finished after 9 steps\n",
      " Episode 1000 finished after 10 steps\n",
      " Episode 1100 finished after 10 steps\n",
      " Episode 1200 finished after 8 steps\n",
      " Episode 1300 finished after 8 steps\n",
      " Episode 1400 finished after 9 steps\n",
      " Episode 1500 finished after 11 steps\n",
      " Episode 1600 finished after 11 steps\n",
      " Episode 1700 finished after 10 steps\n",
      " Episode 1800 finished after 9 steps\n",
      " Episode 1900 finished after 9 steps\n",
      " Episode 2000 finished after 10 steps\n",
      " Episode 2100 finished after 9 steps\n",
      " Episode 2200 finished after 10 steps\n",
      " Episode 2300 finished after 8 steps\n",
      " Episode 2400 finished after 10 steps\n",
      " Episode 2500 finished after 9 steps\n",
      " Episode 2600 finished after 9 steps\n",
      " Episode 2700 finished after 9 steps\n",
      " Episode 2800 finished after 8 steps\n",
      " Episode 2900 finished after 10 steps\n",
      " Episode 3000 finished after 8 steps\n",
      " Episode 3100 finished after 11 steps\n",
      " Episode 3200 finished after 9 steps\n",
      " Episode 3300 finished after 10 steps\n",
      " Episode 3400 finished after 10 steps\n",
      " Episode 3500 finished after 9 steps\n",
      " Episode 3600 finished after 10 steps\n",
      " Episode 3700 finished after 10 steps\n",
      " Episode 3800 finished after 11 steps\n",
      " Episode 3900 finished after 9 steps\n",
      " Episode 4000 finished after 9 steps\n",
      " Episode 4100 finished after 10 steps\n",
      " Episode 4200 finished after 10 steps\n",
      " Episode 4300 finished after 10 steps\n",
      " Episode 4400 finished after 11 steps\n",
      " Episode 4500 finished after 11 steps\n",
      " Episode 4600 finished after 10 steps\n",
      " Episode 4700 finished after 10 steps\n",
      " Episode 4800 finished after 8 steps\n",
      " Episode 4900 finished after 11 steps\n",
      " Episode 5000 finished after 10 steps\n",
      " Episode 5100 finished after 11 steps\n",
      " Episode 5200 finished after 9 steps\n",
      " Episode 5300 finished after 9 steps\n",
      " Episode 5400 finished after 9 steps\n",
      " Episode 5500 finished after 11 steps\n",
      " Episode 5600 finished after 51 steps\n",
      " Episode 5700 finished after 196 steps\n",
      " Episode 5800 finished after 53 steps\n",
      " Episode 5900 finished after 47 steps\n",
      " Episode 6000 finished after 64 steps\n",
      " Episode 6100 finished after 105 steps\n",
      " Episode 6200 finished after 60 steps\n",
      " Episode 6300 finished after 394 steps\n",
      " Episode 6400 finished after 72 steps\n",
      " Episode 6500 finished after 252 steps\n",
      " Episode 6600 finished after 163 steps\n",
      " Episode 6700 finished after 500 steps\n",
      " Episode 6800 finished after 25 steps\n",
      " Episode 6900 finished after 500 steps\n",
      " Episode 7000 finished after 111 steps\n",
      " Episode 7100 finished after 128 steps\n",
      " Episode 7200 finished after 13 steps\n",
      " Episode 7300 finished after 208 steps\n",
      " Episode 7400 finished after 194 steps\n",
      " Episode 7500 finished after 161 steps\n",
      " Episode 7600 finished after 19 steps\n",
      " Episode 7700 finished after 10 steps\n",
      " Episode 7800 finished after 46 steps\n",
      " Episode 7900 finished after 246 steps\n",
      " Episode 8000 finished after 184 steps\n",
      " Episode 8100 finished after 139 steps\n",
      " Episode 8200 finished after 186 steps\n",
      " Episode 8300 finished after 177 steps\n",
      " Episode 8400 finished after 455 steps\n",
      " Episode 8500 finished after 142 steps\n",
      " Episode 8600 finished after 148 steps\n",
      " Episode 8700 finished after 138 steps\n",
      " Episode 8800 finished after 149 steps\n",
      " Episode 8900 finished after 11 steps\n",
      " Episode 9000 finished after 10 steps\n",
      " Episode 9100 finished after 9 steps\n",
      " Episode 9200 finished after 11 steps\n",
      " Episode 9300 finished after 167 steps\n",
      " Episode 9400 finished after 202 steps\n",
      " Episode 9500 finished after 191 steps\n",
      " Episode 9600 finished after 187 steps\n",
      " Episode 9700 finished after 182 steps\n",
      " Episode 9800 finished after 201 steps\n",
      " Episode 9900 finished after 188 steps\n"
     ]
    }
   ],
   "source": [
    "random.seed(seed)\n",
    "torch.manual_seed(seed)\n",
    "env.seed(seed)\n",
    "\n",
    "Q_net = QNetwork(num_hidden=num_hidden)\n",
    "policy = EpsilonGreedyPolicy(Q_net, eps)\n",
    "\n",
    "num_episodes = 10000\n",
    "batch_size = 64\n",
    "discount_factor = 0.8\n",
    "learn_rate = 1e-3\n",
    "memory = ReplayMemory(batch_size)\n",
    "\n",
    "optimizer = optim.Adam(Q_net.parameters(), learn_rate)\n",
    "episode_durations, state_values = run_episodes(train, Q_net, policy, memory, env, num_episodes, batch_size, discount_factor, optimizer)"
   ]
  },
  {
   "cell_type": "code",
   "execution_count": 9,
   "metadata": {},
   "outputs": [
    {
     "data": {
      "image/png": "[encoded data removed]",
      "text/plain": [
       "<Figure size 432x288 with 1 Axes>"
      ]
     },
     "metadata": {
      "needs_background": "light"
     },
     "output_type": "display_data"
    }
   ],
   "source": [
    "plt.plot(smooth(np.array(state_values), 10))\n",
    "plt.ylabel('$\\max_a\\ Q(s,a)$')\n",
    "plt.show()"
   ]
  },
  {
   "cell_type": "code",
   "execution_count": null,
   "metadata": {},
   "outputs": [],
   "source": []
  }
 ],
 "metadata": {
  "kernelspec": {
   "display_name": "Python 3",
   "language": "python",
   "name": "python3"
  },
  "language_info": {
   "codemirror_mode": {
    "name": "ipython",
    "version": 3
   },
   "file_extension": ".py",
   "mimetype": "text/x-python",
   "name": "python",
   "nbconvert_exporter": "python",
   "pygments_lexer": "ipython3",
   "version": "3.7.3"
  }
 },
 "nbformat": 4,
 "nbformat_minor": 4
}
